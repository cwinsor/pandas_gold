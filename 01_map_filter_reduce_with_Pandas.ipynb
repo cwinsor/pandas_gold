{
 "cells": [
  {
   "cell_type": "markdown",
   "id": "845c32fe",
   "metadata": {},
   "source": [
    "# Map, Filter and Reduce using Pandas, Numpy, and standard library\n",
    "* Map, Filter and Reduce are design patterns for stream processing of data.\n",
    "* Pandas has powerful constructs.  Numpy and standard library also can be used.\n",
    "* Lambda functions further simplify and clarify the code.\n",
    "\n",
    "This notebook gives examples of Map, Filter and Reduce.\n",
    "\n",
    "This notebook is available at https://github.com/cwinsor/pandas_gold.git"
   ]
  },
  {
   "cell_type": "code",
   "execution_count": 4,
   "id": "e5b9cb5d",
   "metadata": {},
   "outputs": [],
   "source": [
    "import pandas as pd\n",
    "import numpy as np"
   ]
  },
  {
   "cell_type": "code",
   "execution_count": 39,
   "id": "d3394a5b",
   "metadata": {},
   "outputs": [],
   "source": [
    "#  Here we give examples of Map, Filter, Reduce."
   ]
  },
  {
   "cell_type": "markdown",
   "id": "55b97ab4",
   "metadata": {},
   "source": [
    "# ---------- Map (for numpy array... use \"where\") ----\n",
    "also... increase numpy linewidth for printing..."
   ]
  },
  {
   "cell_type": "code",
   "execution_count": 13,
   "id": "6d0e64f0",
   "metadata": {},
   "outputs": [
    {
     "name": "stdout",
     "output_type": "stream",
     "text": [
      "[['O' 'X' 'X']\n",
      " ['O' 'O' 'X']\n",
      " ['X' 'O' 'O']]\n"
     ]
    }
   ],
   "source": [
    "y = np.array([[10,18,19],[12,13,17],[19, 12, 12]],np.int8)\n",
    "z = np.where(y > 15, \"X\", \"O\")\n",
    "print(z)"
   ]
  },
  {
   "cell_type": "code",
   "execution_count": 19,
   "id": "8198584f",
   "metadata": {},
   "outputs": [
    {
     "name": "stdout",
     "output_type": "stream",
     "text": [
      "[['X' ' ' 'X' ' ' 'X' ' ' 'X' 'X' ' ' 'X' ' ' 'X' 'X' ' ' ' ' ' ' ' ' ' ' 'X' 'X' 'X' ' ' ' ' ' ' 'X' ' ' ' ' ' ']\n",
      " [' ' 'X' ' ' ' ' ' ' 'X' ' ' 'X' 'X' 'X' 'X' ' ' 'X' ' ' 'X' ' ' 'X' ' ' ' ' ' ' ' ' ' ' 'X' 'X' ' ' 'X' ' ' 'X']\n",
      " [' ' 'X' 'X' 'X' ' ' 'X' ' ' ' ' 'X' 'X' 'X' 'X' ' ' 'X' ' ' ' ' ' ' 'X' ' ' ' ' 'X' 'X' 'X' 'X' ' ' 'X' ' ' 'X']]\n"
     ]
    }
   ],
   "source": [
    "# allow printing wider...\n",
    "np.set_printoptions(linewidth=256)\n",
    "y = np.random.randint(low=0, high=255, size=[3,28], dtype=int) # or np.int8\n",
    "z = np.where(y > 128, \"X\", \" \")\n",
    "print(z)"
   ]
  },
  {
   "cell_type": "markdown",
   "id": "399f571b",
   "metadata": {},
   "source": [
    "## ---------- Map -------------\n",
    "### Map is an \"elementwise\" operation.  Each element is mapped to a new value.  This can be seen as creating a new column.\n",
    "* https://www.geeksforgeeks.org/python-map-function/\n",
    "\n",
    "Procedure:\n",
    "1. create a function that will map a single item\n",
    "1. create a list, tuple, np.array\n",
    "1. map(function, iterable)\n",
    "\n",
    "This returns an iterable, so you may want to list(map())"
   ]
  },
  {
   "cell_type": "code",
   "execution_count": 1,
   "id": "e7d9ce73",
   "metadata": {},
   "outputs": [],
   "source": [
    "def addOne(n):\n",
    "    return n + 1"
   ]
  },
  {
   "cell_type": "code",
   "execution_count": 5,
   "id": "3e5bd7f6",
   "metadata": {},
   "outputs": [
    {
     "name": "stdout",
     "output_type": "stream",
     "text": [
      "<map object at 0x00000210FF6108E0>\n",
      "[2, 3, 4, 5]\n"
     ]
    }
   ],
   "source": [
    "# the first argument to \"map\" is a function\n",
    "# the second argument is an iterable\n",
    "\n",
    "# for List\n",
    "numbers = [1, 2, 3, 4]\n",
    "y = map(addOne,numbers)\n",
    "print(y)\n",
    "print(list(y))\n",
    "# note it returns a map object so list() is used to view it"
   ]
  },
  {
   "cell_type": "code",
   "execution_count": 6,
   "id": "ffb8b728",
   "metadata": {},
   "outputs": [
    {
     "data": {
      "text/plain": [
       "[2, 3, 4, 5]"
      ]
     },
     "execution_count": 6,
     "metadata": {},
     "output_type": "execute_result"
    }
   ],
   "source": [
    "# for np.array\n",
    "numbers = np.array([1,2,3,4])\n",
    "list(map(addOne,numbers))"
   ]
  },
  {
   "cell_type": "code",
   "execution_count": 12,
   "id": "60426b54",
   "metadata": {},
   "outputs": [
    {
     "name": "stdout",
     "output_type": "stream",
     "text": [
      "[[1 2 3 4]\n",
      " [5 6 7 8]]\n",
      "\n"
     ]
    },
    {
     "data": {
      "text/plain": [
       "[array([2, 3, 4, 5]), array([6, 7, 8, 9])]"
      ]
     },
     "execution_count": 12,
     "metadata": {},
     "output_type": "execute_result"
    }
   ],
   "source": [
    "numbers = np.array([[1,2,3,4],[5,6,7,8]])\n",
    "print(numbers)\n",
    "print()\n",
    "list(map(addOne,numbers))"
   ]
  },
  {
   "cell_type": "markdown",
   "id": "1fb2e53b",
   "metadata": {},
   "source": [
    "## in Pandas it is \"apply\" for DataFrame, \"map\" for Series\n",
    "* https://pandas.pydata.org/pandas-docs/stable/reference/api/pandas.DataFrame.apply.html\n",
    "* https://pandas.pydata.org/pandas-docs/stable/reference/api/pandas.Series.map.html"
   ]
  },
  {
   "cell_type": "code",
   "execution_count": 13,
   "id": "77bf9adf",
   "metadata": {},
   "outputs": [
    {
     "data": {
      "text/html": [
       "<div>\n",
       "<style scoped>\n",
       "    .dataframe tbody tr th:only-of-type {\n",
       "        vertical-align: middle;\n",
       "    }\n",
       "\n",
       "    .dataframe tbody tr th {\n",
       "        vertical-align: top;\n",
       "    }\n",
       "\n",
       "    .dataframe thead th {\n",
       "        text-align: right;\n",
       "    }\n",
       "</style>\n",
       "<table border=\"1\" class=\"dataframe\">\n",
       "  <thead>\n",
       "    <tr style=\"text-align: right;\">\n",
       "      <th></th>\n",
       "      <th>A</th>\n",
       "      <th>B</th>\n",
       "      <th>C</th>\n",
       "    </tr>\n",
       "  </thead>\n",
       "  <tbody>\n",
       "    <tr>\n",
       "      <th>Row 1</th>\n",
       "      <td>1</td>\n",
       "      <td>10</td>\n",
       "      <td>20</td>\n",
       "    </tr>\n",
       "    <tr>\n",
       "      <th>Row 2</th>\n",
       "      <td>2</td>\n",
       "      <td>20</td>\n",
       "      <td>40</td>\n",
       "    </tr>\n",
       "    <tr>\n",
       "      <th>Row 3</th>\n",
       "      <td>3</td>\n",
       "      <td>30</td>\n",
       "      <td>60</td>\n",
       "    </tr>\n",
       "    <tr>\n",
       "      <th>Row 4</th>\n",
       "      <td>4</td>\n",
       "      <td>40</td>\n",
       "      <td>80</td>\n",
       "    </tr>\n",
       "  </tbody>\n",
       "</table>\n",
       "</div>"
      ],
      "text/plain": [
       "       A   B   C\n",
       "Row 1  1  10  20\n",
       "Row 2  2  20  40\n",
       "Row 3  3  30  60\n",
       "Row 4  4  40  80"
      ]
     },
     "execution_count": 13,
     "metadata": {},
     "output_type": "execute_result"
    }
   ],
   "source": [
    "import pandas as pd\n",
    "df = pd.DataFrame({'A': [1,2,3,4],\n",
    "                   'B': [10,20,30,40],\n",
    "                   'C': [20,40,60,80]\n",
    "                  }, \n",
    "                  index=['Row 1', 'Row 2', 'Row 3', 'Row 4'])\n",
    "df"
   ]
  },
  {
   "cell_type": "code",
   "execution_count": 14,
   "id": "dea986ac",
   "metadata": {},
   "outputs": [
    {
     "data": {
      "text/html": [
       "<div>\n",
       "<style scoped>\n",
       "    .dataframe tbody tr th:only-of-type {\n",
       "        vertical-align: middle;\n",
       "    }\n",
       "\n",
       "    .dataframe tbody tr th {\n",
       "        vertical-align: top;\n",
       "    }\n",
       "\n",
       "    .dataframe thead th {\n",
       "        text-align: right;\n",
       "    }\n",
       "</style>\n",
       "<table border=\"1\" class=\"dataframe\">\n",
       "  <thead>\n",
       "    <tr style=\"text-align: right;\">\n",
       "      <th></th>\n",
       "      <th>A</th>\n",
       "      <th>B</th>\n",
       "      <th>C</th>\n",
       "      <th>E</th>\n",
       "      <th>F</th>\n",
       "    </tr>\n",
       "  </thead>\n",
       "  <tbody>\n",
       "    <tr>\n",
       "      <th>Row 1</th>\n",
       "      <td>1</td>\n",
       "      <td>10</td>\n",
       "      <td>20</td>\n",
       "      <td>11</td>\n",
       "      <td>21</td>\n",
       "    </tr>\n",
       "    <tr>\n",
       "      <th>Row 2</th>\n",
       "      <td>2</td>\n",
       "      <td>20</td>\n",
       "      <td>40</td>\n",
       "      <td>21</td>\n",
       "      <td>41</td>\n",
       "    </tr>\n",
       "    <tr>\n",
       "      <th>Row 3</th>\n",
       "      <td>3</td>\n",
       "      <td>30</td>\n",
       "      <td>60</td>\n",
       "      <td>31</td>\n",
       "      <td>61</td>\n",
       "    </tr>\n",
       "    <tr>\n",
       "      <th>Row 4</th>\n",
       "      <td>4</td>\n",
       "      <td>40</td>\n",
       "      <td>80</td>\n",
       "      <td>41</td>\n",
       "      <td>81</td>\n",
       "    </tr>\n",
       "  </tbody>\n",
       "</table>\n",
       "</div>"
      ],
      "text/plain": [
       "       A   B   C   E   F\n",
       "Row 1  1  10  20  11  21\n",
       "Row 2  2  20  40  21  41\n",
       "Row 3  3  30  60  31  61\n",
       "Row 4  4  40  80  41  81"
      ]
     },
     "execution_count": 14,
     "metadata": {},
     "output_type": "execute_result"
    }
   ],
   "source": [
    "# for DataFrame use \"apply\"\n",
    "df[['E', 'F']] = df[['B','C']].apply(addOne)\n",
    "df"
   ]
  },
  {
   "cell_type": "code",
   "execution_count": 15,
   "id": "a2b69892",
   "metadata": {},
   "outputs": [
    {
     "data": {
      "text/plain": [
       "Item 1    10\n",
       "Item 2    20\n",
       "Item 3    30\n",
       "Item 4    40\n",
       "dtype: int64"
      ]
     },
     "execution_count": 15,
     "metadata": {},
     "output_type": "execute_result"
    }
   ],
   "source": [
    "# for Series use \"map\"\n",
    "series = pd.Series([10,20,30,40],\n",
    "                      index=['Item 1', 'Item 2', 'Item 3', 'Item 4'])\n",
    "series"
   ]
  },
  {
   "cell_type": "code",
   "execution_count": 16,
   "id": "d462590f",
   "metadata": {},
   "outputs": [
    {
     "data": {
      "text/plain": [
       "Item 1    11\n",
       "Item 2    21\n",
       "Item 3    31\n",
       "Item 4    41\n",
       "dtype: int64"
      ]
     },
     "execution_count": 16,
     "metadata": {},
     "output_type": "execute_result"
    }
   ],
   "source": [
    "series.map(addOne)"
   ]
  },
  {
   "cell_type": "markdown",
   "id": "888909d9",
   "metadata": {},
   "source": [
    "# ----------------- Filter -------------------\n",
    "\n",
    "### Filter returns a subset of your data based on some criterion.\n",
    "* With python standard library and numpy:\n",
    "  * create a filtering function\n",
    "  * use filter(function, sequence)\n",
    "  * https://www.geeksforgeeks.org/filter-in-python/\n",
    "\n",
    "* With Pandas\n",
    "  * create a criterion and apply that to the DataFrame\n",
    "  * https://pandas.pydata.org/pandas-docs/stable/getting_started/intro_tutorials/03_subset_data.html"
   ]
  },
  {
   "cell_type": "code",
   "execution_count": 17,
   "id": "69fe5279",
   "metadata": {},
   "outputs": [],
   "source": [
    "# the filtering function takes in a single item\n",
    "def isVowel(arg):\n",
    "    vowels = ['a', 'e', 'i', 'o', 'u']\n",
    "    return arg in vowels"
   ]
  },
  {
   "cell_type": "code",
   "execution_count": 18,
   "id": "437a8b75",
   "metadata": {},
   "outputs": [
    {
     "name": "stdout",
     "output_type": "stream",
     "text": [
      "filtered is: <filter object at 0x000002413B936208>\n",
      "The filtered letters are:\n",
      "e\n",
      "e\n",
      "a\n",
      "filtered is: ['e', 'e', 'a']\n"
     ]
    }
   ],
   "source": [
    "# the first argument to \"filter\" is a function\n",
    "# the second argument is an iterable\n",
    "\n",
    "sequence = ['g', 'e', 'e', 'j', 'a', 's', 'p', 'r']\n",
    "filtered = filter(isVowel, sequence)\n",
    "\n",
    "# it returns an iterator...\n",
    "print('filtered is: {}'.format(filtered))\n",
    "\n",
    "# here we use the iterator...\n",
    "print('The filtered letters are:')\n",
    "for s in filtered:\n",
    "    print(s)\n",
    "    \n",
    "# or transform the iterator to a list...\n",
    "filtered = list(filter(isVowel, sequence))\n",
    "print('filtered is: {}'.format(filtered))\n"
   ]
  },
  {
   "cell_type": "markdown",
   "id": "3c985ff4",
   "metadata": {},
   "source": [
    "## Pandas - filter is done using a binary selector...\n",
    "This does not create a new table, rather is a 'view' of the original table"
   ]
  },
  {
   "cell_type": "code",
   "execution_count": 19,
   "id": "32be0e4e",
   "metadata": {},
   "outputs": [
    {
     "data": {
      "text/html": [
       "<div>\n",
       "<style scoped>\n",
       "    .dataframe tbody tr th:only-of-type {\n",
       "        vertical-align: middle;\n",
       "    }\n",
       "\n",
       "    .dataframe tbody tr th {\n",
       "        vertical-align: top;\n",
       "    }\n",
       "\n",
       "    .dataframe thead th {\n",
       "        text-align: right;\n",
       "    }\n",
       "</style>\n",
       "<table border=\"1\" class=\"dataframe\">\n",
       "  <thead>\n",
       "    <tr style=\"text-align: right;\">\n",
       "      <th></th>\n",
       "      <th>A</th>\n",
       "      <th>B</th>\n",
       "      <th>C</th>\n",
       "    </tr>\n",
       "  </thead>\n",
       "  <tbody>\n",
       "    <tr>\n",
       "      <th>Row 1</th>\n",
       "      <td>1</td>\n",
       "      <td>10</td>\n",
       "      <td>20</td>\n",
       "    </tr>\n",
       "    <tr>\n",
       "      <th>Row 2</th>\n",
       "      <td>2</td>\n",
       "      <td>20</td>\n",
       "      <td>40</td>\n",
       "    </tr>\n",
       "    <tr>\n",
       "      <th>Row 3</th>\n",
       "      <td>3</td>\n",
       "      <td>30</td>\n",
       "      <td>60</td>\n",
       "    </tr>\n",
       "    <tr>\n",
       "      <th>Row 4</th>\n",
       "      <td>4</td>\n",
       "      <td>40</td>\n",
       "      <td>80</td>\n",
       "    </tr>\n",
       "  </tbody>\n",
       "</table>\n",
       "</div>"
      ],
      "text/plain": [
       "       A   B   C\n",
       "Row 1  1  10  20\n",
       "Row 2  2  20  40\n",
       "Row 3  3  30  60\n",
       "Row 4  4  40  80"
      ]
     },
     "execution_count": 19,
     "metadata": {},
     "output_type": "execute_result"
    }
   ],
   "source": [
    "import pandas as pd\n",
    "df = pd.DataFrame({'A': [1,2,3,4],\n",
    "                   'B': [10,20,30,40],\n",
    "                   'C': [20,40,60,80]\n",
    "                  }, \n",
    "                  index=['Row 1', 'Row 2', 'Row 3', 'Row 4'])\n",
    "df"
   ]
  },
  {
   "cell_type": "code",
   "execution_count": 20,
   "id": "81bb8086",
   "metadata": {},
   "outputs": [
    {
     "data": {
      "text/html": [
       "<div>\n",
       "<style scoped>\n",
       "    .dataframe tbody tr th:only-of-type {\n",
       "        vertical-align: middle;\n",
       "    }\n",
       "\n",
       "    .dataframe tbody tr th {\n",
       "        vertical-align: top;\n",
       "    }\n",
       "\n",
       "    .dataframe thead th {\n",
       "        text-align: right;\n",
       "    }\n",
       "</style>\n",
       "<table border=\"1\" class=\"dataframe\">\n",
       "  <thead>\n",
       "    <tr style=\"text-align: right;\">\n",
       "      <th></th>\n",
       "      <th>A</th>\n",
       "      <th>B</th>\n",
       "      <th>C</th>\n",
       "    </tr>\n",
       "  </thead>\n",
       "  <tbody>\n",
       "    <tr>\n",
       "      <th>Row 2</th>\n",
       "      <td>2</td>\n",
       "      <td>20</td>\n",
       "      <td>40</td>\n",
       "    </tr>\n",
       "    <tr>\n",
       "      <th>Row 3</th>\n",
       "      <td>3</td>\n",
       "      <td>30</td>\n",
       "      <td>60</td>\n",
       "    </tr>\n",
       "  </tbody>\n",
       "</table>\n",
       "</div>"
      ],
      "text/plain": [
       "       A   B   C\n",
       "Row 2  2  20  40\n",
       "Row 3  3  30  60"
      ]
     },
     "execution_count": 20,
     "metadata": {},
     "output_type": "execute_result"
    }
   ],
   "source": [
    "criterion1 = df['B'] > 10\n",
    "criterion2 = df['C'] < 80\n",
    "df[criterion1 & criterion2]"
   ]
  },
  {
   "cell_type": "code",
   "execution_count": 21,
   "id": "3e2335b8",
   "metadata": {},
   "outputs": [
    {
     "name": "stdout",
     "output_type": "stream",
     "text": [
      "<class 'pandas.core.series.Series'>\n"
     ]
    }
   ],
   "source": [
    "print(type(criterion1))"
   ]
  },
  {
   "cell_type": "code",
   "execution_count": 22,
   "id": "707e4441",
   "metadata": {},
   "outputs": [
    {
     "data": {
      "text/plain": [
       "Row 1    False\n",
       "Row 2     True\n",
       "Row 3     True\n",
       "Row 4     True\n",
       "Name: B, dtype: bool"
      ]
     },
     "execution_count": 22,
     "metadata": {},
     "output_type": "execute_result"
    }
   ],
   "source": [
    "criterion1"
   ]
  },
  {
   "cell_type": "code",
   "execution_count": 23,
   "id": "61680031",
   "metadata": {},
   "outputs": [],
   "source": [
    "# note only one copy of data in Pandas"
   ]
  },
  {
   "cell_type": "markdown",
   "id": "c4d0b37a",
   "metadata": {},
   "source": [
    "# -------- Reduce ------------------\n",
    "Reduce applies a function along an axis returning a single value for the column.  This is different from \"map\" which is an element-wise operation.  \n",
    "* Reduce can also be applied to rows\n",
    "* Reduce can be used with Pandas groupBy to summarize subsets of data"
   ]
  },
  {
   "cell_type": "markdown",
   "id": "4420b3e8",
   "metadata": {},
   "source": [
    "## Python Standard Library..\n",
    "https://www.geeksforgeeks.org/reduce-in-python/\n",
    "\n",
    "* Many standard reduce functions are available in std lib, numpy, scipy.  Try to use those.\n",
    "* If no standard reduction is available, try to break problem be broken into (map + reduce)\n",
    "* Be careful about functools.reduce - see example!"
   ]
  },
  {
   "cell_type": "markdown",
   "id": "9e55a3ac",
   "metadata": {},
   "source": [
    " ###  functools.reduce\n",
    " \n",
    "https://www.geeksforgeeks.org/reduce-in-python/\n",
    "functools.reduce works as follows:\n",
    "* At first step, first two elements of sequence are picked and the result is obtained.\n",
    "* Next step is to apply the same function to the previously attained result and the number just succeeding the second element and the result is again stored.\n",
    "* This process continues till no more elements are left in the container.\n",
    "* The final returned result is returned and printed on console.\n",
    "\n",
    "Be careful -  it can be tricky as the example shows."
   ]
  },
  {
   "cell_type": "code",
   "execution_count": 24,
   "id": "092df406",
   "metadata": {},
   "outputs": [],
   "source": [
    "# an implementation of a function to  sum( square(a) + square(b) )\n",
    "import functools\n",
    "def sumOfSquares(arg1, arg2):\n",
    "    return arg1 + (arg2*arg2)"
   ]
  },
  {
   "cell_type": "code",
   "execution_count": 25,
   "id": "6f125eac",
   "metadata": {},
   "outputs": [
    {
     "name": "stdout",
     "output_type": "stream",
     "text": [
      "[[1 5]\n",
      " [2 5]\n",
      " [3 5]]\n",
      "\n",
      "[14 55]\n"
     ]
    }
   ],
   "source": [
    "arr = np.array([[1,5],[2,5],[3,5]])\n",
    "print(arr)\n",
    "print()\n",
    "print(functools.reduce(sumOfSquares, arr))"
   ]
  },
  {
   "cell_type": "markdown",
   "id": "68e0bae4",
   "metadata": {},
   "source": [
    "**try to debug** ***THAT***"
   ]
  },
  {
   "cell_type": "markdown",
   "id": "3030a53e",
   "metadata": {},
   "source": [
    "# Pandas\n",
    "first map (square), then reduce (sum)"
   ]
  },
  {
   "cell_type": "code",
   "execution_count": 26,
   "id": "bf8b794f",
   "metadata": {},
   "outputs": [
    {
     "name": "stdout",
     "output_type": "stream",
     "text": [
      "   col1  col2  c1_sq  c2_sq\n",
      "0     1     5      1     25\n",
      "1     2     5      4     25\n",
      "2     3     5      9     25\n"
     ]
    },
    {
     "data": {
      "text/plain": [
       "col1      6\n",
       "col2     15\n",
       "c1_sq    14\n",
       "c2_sq    75\n",
       "dtype: int64"
      ]
     },
     "execution_count": 26,
     "metadata": {},
     "output_type": "execute_result"
    }
   ],
   "source": [
    "# using function\n",
    "arr = np.array([[1,5],[2,5],[3,5]])\n",
    "df = pd.DataFrame(arr, columns=[\"col1\", \"col2\"])\n",
    "\n",
    "def square(arg):\n",
    "    return arg[0]**2\n",
    "\n",
    "df['c1_sq'] = df[['col1']].apply(square, axis=1)\n",
    "df['c2_sq'] = df[['col2']].apply(square, axis=1)\n",
    "\n",
    "print(df)\n",
    "\n",
    "# reduce using sum()\n",
    "df.sum()"
   ]
  },
  {
   "cell_type": "markdown",
   "id": "5720aa00",
   "metadata": {},
   "source": [
    "# lambda\n",
    "Lambda is an in-line function.  It replaces the \"def\" above.\n",
    "\n",
    "https://towardsdatascience.com/lambda-functions-with-practical-examples-in-python-45934f3653a8"
   ]
  },
  {
   "cell_type": "markdown",
   "id": "4f7a490b",
   "metadata": {},
   "source": [
    "# lambda with scalar"
   ]
  },
  {
   "cell_type": "code",
   "execution_count": 27,
   "id": "80d57925",
   "metadata": {},
   "outputs": [
    {
     "data": {
      "text/plain": [
       "24"
      ]
     },
     "execution_count": 27,
     "metadata": {},
     "output_type": "execute_result"
    }
   ],
   "source": [
    "(lambda x: x*2)(12)"
   ]
  },
  {
   "cell_type": "markdown",
   "id": "44acfd08",
   "metadata": {},
   "source": [
    "# lambda as the function for \"map\"\n",
    "remember...   map(function, iterable)"
   ]
  },
  {
   "cell_type": "code",
   "execution_count": 28,
   "id": "1618f3eb",
   "metadata": {},
   "outputs": [
    {
     "data": {
      "text/plain": [
       "[101, 102, 103, 104, 105, 106, 107, 108, 109]"
      ]
     },
     "execution_count": 28,
     "metadata": {},
     "output_type": "execute_result"
    }
   ],
   "source": [
    "# map(function, iterable, ...)\n",
    "\n",
    "# lambda plays the role of function\n",
    "# list_1 is the iterable\n",
    "\n",
    "# \"add 100 to each item in the list\"\n",
    "list_1 = [1,2,3,4,5,6,7,8,9]\n",
    "list(map(lambda x: x+100, list_1))"
   ]
  },
  {
   "cell_type": "markdown",
   "id": "64e46750",
   "metadata": {},
   "source": [
    "# lambda as the function for \"filter\"\n",
    "remember...   filter(function, iterable)"
   ]
  },
  {
   "cell_type": "code",
   "execution_count": 29,
   "id": "e558c6f5",
   "metadata": {},
   "outputs": [
    {
     "data": {
      "text/plain": [
       "[2, 4, 6, 8]"
      ]
     },
     "execution_count": 29,
     "metadata": {},
     "output_type": "execute_result"
    }
   ],
   "source": [
    "# filter(function, iterable)\n",
    "\n",
    "# lambda plays the role of function\n",
    "# list_1 is the iterable\n",
    "\n",
    "# \"find the even numbers in the list\"\n",
    "list_1 = [1,2,3,4,5,6,7,8,9]\n",
    "list(filter(lambda x: x%2==0, list_1))"
   ]
  },
  {
   "cell_type": "markdown",
   "id": "247a77a6",
   "metadata": {},
   "source": [
    "## using lambda with DataFrame\n",
    "* https://stackoverflow.com/questions/13331698/how-to-apply-a-function-to-two-columns-of-pandas-dataframe\n",
    "\n",
    "See \"so wonderfully readable\":\n",
    "1. pass a list to the lambda call\n",
    "1. Selecting and ordering the list occurs outside the lambda\n",
    "1. Within the lambda use [0],[1] to access as args\n",
    "* This is \"safe\" (args are specified/chosen by caller, not inside lambda)\n",
    "* This is \"clear\" ('col1', 'col2' are clearly called out as first and second args)"
   ]
  },
  {
   "cell_type": "code",
   "execution_count": 30,
   "id": "eb9628fe",
   "metadata": {},
   "outputs": [
    {
     "name": "stdout",
     "output_type": "stream",
     "text": [
      "   col1  col2  squared\n",
      "0     1     5       26\n",
      "1     2     5       29\n",
      "2     3     5       34\n"
     ]
    },
    {
     "data": {
      "text/plain": [
       "col1        6\n",
       "col2       15\n",
       "squared    89\n",
       "dtype: int64"
      ]
     },
     "execution_count": 30,
     "metadata": {},
     "output_type": "execute_result"
    }
   ],
   "source": [
    "arr = np.array([[1,5],[2,5],[3,5]])\n",
    "df = pd.DataFrame(arr, columns=[\"col1\", \"col2\"])\n",
    "\n",
    "df['squared'] = df[['col1','col2']].apply(lambda x: x[0]**2 + x[1]**2, axis=1)\n",
    "print(df)\n",
    "\n",
    "# reduce using sum()\n",
    "df.sum()"
   ]
  },
  {
   "cell_type": "markdown",
   "id": "bac73141",
   "metadata": {},
   "source": [
    "# Example using above"
   ]
  },
  {
   "cell_type": "code",
   "execution_count": 37,
   "id": "36224e5d",
   "metadata": {},
   "outputs": [
    {
     "name": "stdout",
     "output_type": "stream",
     "text": [
      "Original\n",
      "   animal_id  weight\n",
      "0        123     550\n",
      "1        123     575\n",
      "2        123     615\n",
      "3        123     620\n",
      "4        123     625\n",
      "5        456     460\n",
      "6        456     470\n",
      "7        255       5\n",
      "8        256       8\n",
      "9        257       4\n",
      "\n",
      "categorical match\n",
      "   animal_id  weight  weight_match\n",
      "0        123     550         False\n",
      "1        123     575         False\n",
      "2        123     615          True\n",
      "3        123     620          True\n",
      "4        123     625          True\n",
      "5        456     460         False\n",
      "6        456     470         False\n",
      "7        255       5          True\n",
      "8        256       8          True\n",
      "9        257       4          True\n",
      "\n",
      "succinct list\n",
      "   animal_id  weight  weight_match\n",
      "2        123     615          True\n",
      "3        123     620          True\n",
      "4        123     625          True\n",
      "7        255       5          True\n",
      "8        256       8          True\n",
      "9        257       4          True\n",
      "\n",
      "just the IDs\n",
      "2    123\n",
      "3    123\n",
      "4    123\n",
      "7    255\n",
      "8    256\n",
      "9    257\n",
      "Name: animal_id, dtype: int64\n",
      "\n",
      "unique IDs\n",
      "[123 255 256 257]\n"
     ]
    }
   ],
   "source": [
    "# We have farm animals that periodically get weighed\n",
    "# find the animals that have weighed less than 50 -OR- have weighed more than 600\n",
    "\n",
    "df = pd.DataFrame({'animal_id': [123, 123, 123, 123, 123, 456, 456, 255, 256, 257],\n",
    "                   'weight':    [550, 575, 615, 620, 625, 460, 470,   5,   8,   4],\n",
    "                  })\n",
    "print('Original')\n",
    "print(df)\n",
    "\n",
    "# to do this...\n",
    "# first make a categorical attribute indicating weight matches our requirements [true, false]\n",
    "# can use 'apply' with lambda\n",
    "#   df['weight_match'] = df[['weight']].apply(lambda args: (args[0]>600)|(args[0]<50), axis=1)\n",
    "# or\n",
    "df['weight_match'] =  (df['weight']<50) | (df['weight']>600)\n",
    "print('\\ncategorical match')\n",
    "print(df)\n",
    "\n",
    "# to make a succinct list\n",
    "# make a criterion that satisfies our requirement\n",
    "criterion_1 = df['weight_match'] == True\n",
    "print('\\nsuccinct list')\n",
    "print(df[criterion_1])\n",
    "\n",
    "# we then return a series of just the animal_ids\n",
    "series = df[criterion_1]['animal_id']\n",
    "print('\\njust the IDs')\n",
    "print(series)\n",
    "\n",
    "# we then find the unique animal_ids in the series\n",
    "print('\\nunique IDs')\n",
    "print(series.unique())"
   ]
  },
  {
   "cell_type": "markdown",
   "id": "bed69f4c",
   "metadata": {},
   "source": [
    "# That is all for today.\n",
    "# Thank you !\n"
   ]
  }
 ],
 "metadata": {
  "kernelspec": {
   "display_name": "Python 3 (ipykernel)",
   "language": "python",
   "name": "python3"
  },
  "language_info": {
   "codemirror_mode": {
    "name": "ipython",
    "version": 3
   },
   "file_extension": ".py",
   "mimetype": "text/x-python",
   "name": "python",
   "nbconvert_exporter": "python",
   "pygments_lexer": "ipython3",
   "version": "3.9.12"
  }
 },
 "nbformat": 4,
 "nbformat_minor": 5
}
