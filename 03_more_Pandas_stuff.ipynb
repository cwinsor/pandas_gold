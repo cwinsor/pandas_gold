{
 "cells": [
  {
   "cell_type": "markdown",
   "id": "f4c906dd",
   "metadata": {},
   "source": [
    "# More Pandas good stuff"
   ]
  },
  {
   "cell_type": "markdown",
   "id": "7a44f5d7",
   "metadata": {},
   "source": [
    "The following are Pandas snippets that may be helpful, but are not well organized..."
   ]
  },
  {
   "cell_type": "code",
   "execution_count": 1,
   "id": "9fd4d12b",
   "metadata": {},
   "outputs": [],
   "source": [
    "import pandas as pd\n",
    "import numpy as np"
   ]
  },
  {
   "cell_type": "markdown",
   "id": "96a2bb4c",
   "metadata": {},
   "source": [
    "### row reduction (axis=1)"
   ]
  },
  {
   "cell_type": "code",
   "execution_count": 2,
   "id": "fcd21943",
   "metadata": {},
   "outputs": [
    {
     "name": "stdout",
     "output_type": "stream",
     "text": [
      "   col1  col2\n",
      "0     1     5\n",
      "1     2     5\n",
      "2     3     5\n",
      "\n",
      "0    6\n",
      "1    7\n",
      "2    8\n",
      "dtype: int64\n"
     ]
    }
   ],
   "source": [
    "arr = np.array([[1,5],[2,5],[3,5]])\n",
    "df = pd.DataFrame(arr, columns=[\"col1\", \"col2\"])\n",
    "print(df)\n",
    "print()\n",
    "print(df.sum(axis=1))"
   ]
  },
  {
   "cell_type": "markdown",
   "id": "696bfa44",
   "metadata": {},
   "source": [
    "### Reduce and \"groupBy\"\n",
    "A table can be split into subset called groups.  Reduce can give a summary of each group."
   ]
  },
  {
   "cell_type": "code",
   "execution_count": 3,
   "id": "65ba6edb",
   "metadata": {},
   "outputs": [
    {
     "data": {
      "text/html": [
       "<div>\n",
       "<style scoped>\n",
       "    .dataframe tbody tr th:only-of-type {\n",
       "        vertical-align: middle;\n",
       "    }\n",
       "\n",
       "    .dataframe tbody tr th {\n",
       "        vertical-align: top;\n",
       "    }\n",
       "\n",
       "    .dataframe thead th {\n",
       "        text-align: right;\n",
       "    }\n",
       "</style>\n",
       "<table border=\"1\" class=\"dataframe\">\n",
       "  <thead>\n",
       "    <tr style=\"text-align: right;\">\n",
       "      <th></th>\n",
       "      <th>Animal</th>\n",
       "      <th>Max Speed</th>\n",
       "    </tr>\n",
       "  </thead>\n",
       "  <tbody>\n",
       "    <tr>\n",
       "      <th>0</th>\n",
       "      <td>Falcon</td>\n",
       "      <td>380.0</td>\n",
       "    </tr>\n",
       "    <tr>\n",
       "      <th>1</th>\n",
       "      <td>Falcon</td>\n",
       "      <td>370.0</td>\n",
       "    </tr>\n",
       "    <tr>\n",
       "      <th>2</th>\n",
       "      <td>Parrot</td>\n",
       "      <td>24.0</td>\n",
       "    </tr>\n",
       "    <tr>\n",
       "      <th>3</th>\n",
       "      <td>Parrot</td>\n",
       "      <td>26.0</td>\n",
       "    </tr>\n",
       "  </tbody>\n",
       "</table>\n",
       "</div>"
      ],
      "text/plain": [
       "   Animal  Max Speed\n",
       "0  Falcon      380.0\n",
       "1  Falcon      370.0\n",
       "2  Parrot       24.0\n",
       "3  Parrot       26.0"
      ]
     },
     "execution_count": 3,
     "metadata": {},
     "output_type": "execute_result"
    }
   ],
   "source": [
    "df = pd.DataFrame({'Animal': ['Falcon', 'Falcon',\n",
    "                              'Parrot', 'Parrot'],\n",
    "                   'Max Speed': [380., 370., 24., 26.]})\n",
    "df"
   ]
  },
  {
   "cell_type": "code",
   "execution_count": 4,
   "id": "30318bfa",
   "metadata": {},
   "outputs": [
    {
     "data": {
      "text/html": [
       "<div>\n",
       "<style scoped>\n",
       "    .dataframe tbody tr th:only-of-type {\n",
       "        vertical-align: middle;\n",
       "    }\n",
       "\n",
       "    .dataframe tbody tr th {\n",
       "        vertical-align: top;\n",
       "    }\n",
       "\n",
       "    .dataframe thead th {\n",
       "        text-align: right;\n",
       "    }\n",
       "</style>\n",
       "<table border=\"1\" class=\"dataframe\">\n",
       "  <thead>\n",
       "    <tr style=\"text-align: right;\">\n",
       "      <th></th>\n",
       "      <th>Max Speed</th>\n",
       "    </tr>\n",
       "    <tr>\n",
       "      <th>Animal</th>\n",
       "      <th></th>\n",
       "    </tr>\n",
       "  </thead>\n",
       "  <tbody>\n",
       "    <tr>\n",
       "      <th>Falcon</th>\n",
       "      <td>375.0</td>\n",
       "    </tr>\n",
       "    <tr>\n",
       "      <th>Parrot</th>\n",
       "      <td>25.0</td>\n",
       "    </tr>\n",
       "  </tbody>\n",
       "</table>\n",
       "</div>"
      ],
      "text/plain": [
       "        Max Speed\n",
       "Animal           \n",
       "Falcon      375.0\n",
       "Parrot       25.0"
      ]
     },
     "execution_count": 4,
     "metadata": {},
     "output_type": "execute_result"
    }
   ],
   "source": [
    "df.groupby(['Animal']).mean()"
   ]
  },
  {
   "cell_type": "markdown",
   "id": "80c64922",
   "metadata": {},
   "source": [
    "### using multiIndex ...\n",
    "https://pandas.pydata.org/pandas-docs/stable/reference/api/pandas.DataFrame.groupby.html"
   ]
  },
  {
   "cell_type": "code",
   "execution_count": 5,
   "id": "cef0d60d",
   "metadata": {},
   "outputs": [
    {
     "data": {
      "text/html": [
       "<div>\n",
       "<style scoped>\n",
       "    .dataframe tbody tr th:only-of-type {\n",
       "        vertical-align: middle;\n",
       "    }\n",
       "\n",
       "    .dataframe tbody tr th {\n",
       "        vertical-align: top;\n",
       "    }\n",
       "\n",
       "    .dataframe thead th {\n",
       "        text-align: right;\n",
       "    }\n",
       "</style>\n",
       "<table border=\"1\" class=\"dataframe\">\n",
       "  <thead>\n",
       "    <tr style=\"text-align: right;\">\n",
       "      <th></th>\n",
       "      <th></th>\n",
       "      <th>Max Speed</th>\n",
       "    </tr>\n",
       "    <tr>\n",
       "      <th>Animal</th>\n",
       "      <th>Type</th>\n",
       "      <th></th>\n",
       "    </tr>\n",
       "  </thead>\n",
       "  <tbody>\n",
       "    <tr>\n",
       "      <th rowspan=\"2\" valign=\"top\">Falcon</th>\n",
       "      <th>Captive</th>\n",
       "      <td>390.0</td>\n",
       "    </tr>\n",
       "    <tr>\n",
       "      <th>Wild</th>\n",
       "      <td>350.0</td>\n",
       "    </tr>\n",
       "    <tr>\n",
       "      <th rowspan=\"2\" valign=\"top\">Parrot</th>\n",
       "      <th>Captive</th>\n",
       "      <td>30.0</td>\n",
       "    </tr>\n",
       "    <tr>\n",
       "      <th>Wild</th>\n",
       "      <td>20.0</td>\n",
       "    </tr>\n",
       "  </tbody>\n",
       "</table>\n",
       "</div>"
      ],
      "text/plain": [
       "                Max Speed\n",
       "Animal Type              \n",
       "Falcon Captive      390.0\n",
       "       Wild         350.0\n",
       "Parrot Captive       30.0\n",
       "       Wild          20.0"
      ]
     },
     "execution_count": 5,
     "metadata": {},
     "output_type": "execute_result"
    }
   ],
   "source": [
    "arrays = [['Falcon', 'Falcon', 'Parrot', 'Parrot'],\n",
    "          ['Captive', 'Wild', 'Captive', 'Wild']]\n",
    "index = pd.MultiIndex.from_arrays(arrays, names=('Animal', 'Type'))\n",
    "df = pd.DataFrame({'Max Speed': [390., 350., 30., 20.]},\n",
    "                  index=index)\n",
    "df"
   ]
  },
  {
   "cell_type": "code",
   "execution_count": 6,
   "id": "7af41800",
   "metadata": {},
   "outputs": [
    {
     "data": {
      "text/html": [
       "<div>\n",
       "<style scoped>\n",
       "    .dataframe tbody tr th:only-of-type {\n",
       "        vertical-align: middle;\n",
       "    }\n",
       "\n",
       "    .dataframe tbody tr th {\n",
       "        vertical-align: top;\n",
       "    }\n",
       "\n",
       "    .dataframe thead th {\n",
       "        text-align: right;\n",
       "    }\n",
       "</style>\n",
       "<table border=\"1\" class=\"dataframe\">\n",
       "  <thead>\n",
       "    <tr style=\"text-align: right;\">\n",
       "      <th></th>\n",
       "      <th>Max Speed</th>\n",
       "    </tr>\n",
       "    <tr>\n",
       "      <th>Animal</th>\n",
       "      <th></th>\n",
       "    </tr>\n",
       "  </thead>\n",
       "  <tbody>\n",
       "    <tr>\n",
       "      <th>Falcon</th>\n",
       "      <td>370.0</td>\n",
       "    </tr>\n",
       "    <tr>\n",
       "      <th>Parrot</th>\n",
       "      <td>25.0</td>\n",
       "    </tr>\n",
       "  </tbody>\n",
       "</table>\n",
       "</div>"
      ],
      "text/plain": [
       "        Max Speed\n",
       "Animal           \n",
       "Falcon      370.0\n",
       "Parrot       25.0"
      ]
     },
     "execution_count": 6,
     "metadata": {},
     "output_type": "execute_result"
    }
   ],
   "source": [
    "df.groupby(level=0).mean()"
   ]
  },
  {
   "cell_type": "code",
   "execution_count": 7,
   "id": "59792e6e",
   "metadata": {},
   "outputs": [
    {
     "data": {
      "text/html": [
       "<div>\n",
       "<style scoped>\n",
       "    .dataframe tbody tr th:only-of-type {\n",
       "        vertical-align: middle;\n",
       "    }\n",
       "\n",
       "    .dataframe tbody tr th {\n",
       "        vertical-align: top;\n",
       "    }\n",
       "\n",
       "    .dataframe thead th {\n",
       "        text-align: right;\n",
       "    }\n",
       "</style>\n",
       "<table border=\"1\" class=\"dataframe\">\n",
       "  <thead>\n",
       "    <tr style=\"text-align: right;\">\n",
       "      <th></th>\n",
       "      <th>Max Speed</th>\n",
       "    </tr>\n",
       "    <tr>\n",
       "      <th>Type</th>\n",
       "      <th></th>\n",
       "    </tr>\n",
       "  </thead>\n",
       "  <tbody>\n",
       "    <tr>\n",
       "      <th>Captive</th>\n",
       "      <td>210.0</td>\n",
       "    </tr>\n",
       "    <tr>\n",
       "      <th>Wild</th>\n",
       "      <td>185.0</td>\n",
       "    </tr>\n",
       "  </tbody>\n",
       "</table>\n",
       "</div>"
      ],
      "text/plain": [
       "         Max Speed\n",
       "Type              \n",
       "Captive      210.0\n",
       "Wild         185.0"
      ]
     },
     "execution_count": 7,
     "metadata": {},
     "output_type": "execute_result"
    }
   ],
   "source": [
    "df.groupby(level=\"Type\").mean()"
   ]
  },
  {
   "cell_type": "markdown",
   "id": "1b5d165e",
   "metadata": {},
   "source": [
    "## Pivot (reshape)\n",
    "https://pandas.pydata.org/pandas-docs/stable/user_guide/reshaping.html\n",
    "\n",
    "The example from that reference is below.  But we start with easier examples.\n",
    "\n",
    "In summary:\n",
    "1. \"and\" of values between two nominal columns (col_1 value and col_2 value) -> filter\n",
    "1. \"or\"  of values between two nominal columns (col_1 value  or col_2 value) -> filter\n",
    "1. \"or'  of values within  one nominal column  (col_1 value  or col_1 value) ->  filter, then pivot\n"
   ]
  },
  {
   "cell_type": "code",
   "execution_count": 8,
   "id": "6c644abe",
   "metadata": {},
   "outputs": [
    {
     "name": "stdout",
     "output_type": "stream",
     "text": [
      "   foo bar baz zoo\n",
      "0  one   A   1   x\n",
      "1  one   B   2   y\n",
      "2  one   C   3   z\n",
      "3  two   A   4   q\n",
      "4  two   B   5   w\n",
      "5  two   C   6   t\n"
     ]
    },
    {
     "data": {
      "text/html": [
       "<div>\n",
       "<style scoped>\n",
       "    .dataframe tbody tr th:only-of-type {\n",
       "        vertical-align: middle;\n",
       "    }\n",
       "\n",
       "    .dataframe tbody tr th {\n",
       "        vertical-align: top;\n",
       "    }\n",
       "\n",
       "    .dataframe thead th {\n",
       "        text-align: right;\n",
       "    }\n",
       "</style>\n",
       "<table border=\"1\" class=\"dataframe\">\n",
       "  <thead>\n",
       "    <tr style=\"text-align: right;\">\n",
       "      <th>bar</th>\n",
       "      <th>A</th>\n",
       "      <th>B</th>\n",
       "      <th>C</th>\n",
       "    </tr>\n",
       "    <tr>\n",
       "      <th>foo</th>\n",
       "      <th></th>\n",
       "      <th></th>\n",
       "      <th></th>\n",
       "    </tr>\n",
       "  </thead>\n",
       "  <tbody>\n",
       "    <tr>\n",
       "      <th>one</th>\n",
       "      <td>1</td>\n",
       "      <td>2</td>\n",
       "      <td>3</td>\n",
       "    </tr>\n",
       "    <tr>\n",
       "      <th>two</th>\n",
       "      <td>4</td>\n",
       "      <td>5</td>\n",
       "      <td>6</td>\n",
       "    </tr>\n",
       "  </tbody>\n",
       "</table>\n",
       "</div>"
      ],
      "text/plain": [
       "bar  A  B  C\n",
       "foo         \n",
       "one  1  2  3\n",
       "two  4  5  6"
      ]
     },
     "execution_count": 8,
     "metadata": {},
     "output_type": "execute_result"
    }
   ],
   "source": [
    "# example from https://pandas.pydata.org/pandas-docs/stable/user_guide/reshaping.html\n",
    "df = pd.DataFrame({'foo': ['one', 'one', 'one', 'two', 'two', 'two'],\n",
    "                   'bar': ['A', 'B', 'C', 'A', 'B', 'C'],\n",
    "                   'baz': ['1', '2', '3', '4', '5', '6'],\n",
    "                  'zoo': ['x', 'y', 'z', 'q', 'w', 't']})\n",
    "print(df)\n",
    "df.pivot(index=\"foo\", columns=\"bar\", values=\"baz\")\n"
   ]
  },
  {
   "cell_type": "code",
   "execution_count": 9,
   "id": "bb5392b1",
   "metadata": {},
   "outputs": [
    {
     "data": {
      "text/html": [
       "<div>\n",
       "<style scoped>\n",
       "    .dataframe tbody tr th:only-of-type {\n",
       "        vertical-align: middle;\n",
       "    }\n",
       "\n",
       "    .dataframe tbody tr th {\n",
       "        vertical-align: top;\n",
       "    }\n",
       "\n",
       "    .dataframe thead th {\n",
       "        text-align: right;\n",
       "    }\n",
       "</style>\n",
       "<table border=\"1\" class=\"dataframe\">\n",
       "  <thead>\n",
       "    <tr style=\"text-align: right;\">\n",
       "      <th></th>\n",
       "      <th>Category_1</th>\n",
       "      <th>Category_2</th>\n",
       "      <th>Value</th>\n",
       "    </tr>\n",
       "  </thead>\n",
       "  <tbody>\n",
       "    <tr>\n",
       "      <th>0</th>\n",
       "      <td>100</td>\n",
       "      <td>apple</td>\n",
       "      <td>380.0</td>\n",
       "    </tr>\n",
       "    <tr>\n",
       "      <th>1</th>\n",
       "      <td>100</td>\n",
       "      <td>pear</td>\n",
       "      <td>370.0</td>\n",
       "    </tr>\n",
       "    <tr>\n",
       "      <th>2</th>\n",
       "      <td>100</td>\n",
       "      <td>banana</td>\n",
       "      <td>24.0</td>\n",
       "    </tr>\n",
       "    <tr>\n",
       "      <th>3</th>\n",
       "      <td>101</td>\n",
       "      <td>apple</td>\n",
       "      <td>26.0</td>\n",
       "    </tr>\n",
       "    <tr>\n",
       "      <th>4</th>\n",
       "      <td>101</td>\n",
       "      <td>pear</td>\n",
       "      <td>12.0</td>\n",
       "    </tr>\n",
       "    <tr>\n",
       "      <th>5</th>\n",
       "      <td>102</td>\n",
       "      <td>apple</td>\n",
       "      <td>28.0</td>\n",
       "    </tr>\n",
       "  </tbody>\n",
       "</table>\n",
       "</div>"
      ],
      "text/plain": [
       "   Category_1 Category_2  Value\n",
       "0         100      apple  380.0\n",
       "1         100       pear  370.0\n",
       "2         100     banana   24.0\n",
       "3         101      apple   26.0\n",
       "4         101       pear   12.0\n",
       "5         102      apple   28.0"
      ]
     },
     "execution_count": 9,
     "metadata": {},
     "output_type": "execute_result"
    }
   ],
   "source": [
    "df = pd.DataFrame({'Category_1': [100, 100, 100, 101, 101, 102],\n",
    "                   'Category_2': [\"apple\", 'pear', 'banana', 'apple', 'pear', 'apple'],\n",
    "                   'Value': [380., 370., 24., 26., 12., 28.]})\n",
    "df"
   ]
  },
  {
   "cell_type": "code",
   "execution_count": 10,
   "id": "d8cf89d4",
   "metadata": {},
   "outputs": [
    {
     "data": {
      "text/html": [
       "<div>\n",
       "<style scoped>\n",
       "    .dataframe tbody tr th:only-of-type {\n",
       "        vertical-align: middle;\n",
       "    }\n",
       "\n",
       "    .dataframe tbody tr th {\n",
       "        vertical-align: top;\n",
       "    }\n",
       "\n",
       "    .dataframe thead th {\n",
       "        text-align: right;\n",
       "    }\n",
       "</style>\n",
       "<table border=\"1\" class=\"dataframe\">\n",
       "  <thead>\n",
       "    <tr style=\"text-align: right;\">\n",
       "      <th>Category_2</th>\n",
       "      <th>apple</th>\n",
       "      <th>banana</th>\n",
       "      <th>pear</th>\n",
       "    </tr>\n",
       "    <tr>\n",
       "      <th>Category_1</th>\n",
       "      <th></th>\n",
       "      <th></th>\n",
       "      <th></th>\n",
       "    </tr>\n",
       "  </thead>\n",
       "  <tbody>\n",
       "    <tr>\n",
       "      <th>100</th>\n",
       "      <td>380.0</td>\n",
       "      <td>24.0</td>\n",
       "      <td>370.0</td>\n",
       "    </tr>\n",
       "    <tr>\n",
       "      <th>101</th>\n",
       "      <td>26.0</td>\n",
       "      <td>NaN</td>\n",
       "      <td>12.0</td>\n",
       "    </tr>\n",
       "    <tr>\n",
       "      <th>102</th>\n",
       "      <td>28.0</td>\n",
       "      <td>NaN</td>\n",
       "      <td>NaN</td>\n",
       "    </tr>\n",
       "  </tbody>\n",
       "</table>\n",
       "</div>"
      ],
      "text/plain": [
       "Category_2  apple  banana   pear\n",
       "Category_1                      \n",
       "100         380.0    24.0  370.0\n",
       "101          26.0     NaN   12.0\n",
       "102          28.0     NaN    NaN"
      ]
     },
     "execution_count": 10,
     "metadata": {},
     "output_type": "execute_result"
    }
   ],
   "source": [
    "df.pivot(index=\"Category_1\", columns=\"Category_2\", values=\"Value\")"
   ]
  },
  {
   "cell_type": "markdown",
   "id": "c73adb29",
   "metadata": {},
   "source": [
    "# Merge/Join of DataFrames (the .concat method)\n",
    "See https://pandas.pydata.org/pandas-docs/stable/user_guide/merging.html"
   ]
  },
  {
   "cell_type": "markdown",
   "id": "1f1b7ce4",
   "metadata": {},
   "source": [
    "# Specifying Schema when Creating a DataFrame"
   ]
  },
  {
   "cell_type": "code",
   "execution_count": 14,
   "id": "d421654a",
   "metadata": {},
   "outputs": [
    {
     "name": "stdout",
     "output_type": "stream",
     "text": [
      "<class 'pandas.core.frame.DataFrame'>\n",
      "Index: 0 entries\n",
      "Data columns (total 4 columns):\n",
      " #   Column              Non-Null Count  Dtype  \n",
      "---  ------              --------------  -----  \n",
      " 0   left                0 non-null      int32  \n",
      " 1   center_y            0 non-null      float64\n",
      " 2   original_file_path  0 non-null      object \n",
      " 3   is_origin           0 non-null      bool   \n",
      "dtypes: bool(1), float64(1), int32(1), object(1)\n",
      "memory usage: 0.0+ bytes\n"
     ]
    }
   ],
   "source": [
    "import pandas as pd\n",
    "schema = {\n",
    "    'left': int,\n",
    "    'center_y': float,\n",
    "    'original_file_path': str,\n",
    "    \"is_origin\": bool}\n",
    "\n",
    "df_objects = pd.DataFrame(columns=schema.keys()).astype(schema)\n",
    "df_objects.info()"
   ]
  },
  {
   "cell_type": "markdown",
   "id": "72dc383f",
   "metadata": {},
   "source": [
    "# Iterating through a DataFrame"
   ]
  },
  {
   "cell_type": "code",
   "execution_count": 15,
   "id": "628fdd6d",
   "metadata": {},
   "outputs": [],
   "source": [
    "for file_num, file_info in df_objects.iterrows():\n",
    "    print(\"file_num {} of {}\".format(file_num, df_objects.shape[0]))\n",
    "    #print(file_info)\n",
    "\n",
    "    if file_info['blah']:\n",
    "        print('foo')"
   ]
  },
  {
   "cell_type": "markdown",
   "id": "7bd2765e",
   "metadata": {},
   "source": [
    "# Appending to DataFrame"
   ]
  },
  {
   "cell_type": "code",
   "execution_count": 16,
   "id": "55eea63c",
   "metadata": {},
   "outputs": [
    {
     "ename": "NameError",
     "evalue": "name 'img_masked' is not defined",
     "output_type": "error",
     "traceback": [
      "\u001b[1;31m---------------------------------------------------------------------------\u001b[0m",
      "\u001b[1;31mNameError\u001b[0m                                 Traceback (most recent call last)",
      "\u001b[1;32m<ipython-input-16-590ad4ce2608>\u001b[0m in \u001b[0;36m<module>\u001b[1;34m\u001b[0m\n\u001b[0;32m     13\u001b[0m \u001b[1;33m\u001b[0m\u001b[0m\n\u001b[0;32m     14\u001b[0m \u001b[1;31m# Find connected components\u001b[0m\u001b[1;33m\u001b[0m\u001b[1;33m\u001b[0m\u001b[1;33m\u001b[0m\u001b[0m\n\u001b[1;32m---> 15\u001b[1;33m \u001b[0mobjects_this_image\u001b[0m \u001b[1;33m=\u001b[0m \u001b[0mdf_from_image\u001b[0m\u001b[1;33m(\u001b[0m\u001b[0mimg_masked\u001b[0m\u001b[1;33m)\u001b[0m\u001b[1;33m\u001b[0m\u001b[1;33m\u001b[0m\u001b[0m\n\u001b[0m\u001b[0;32m     16\u001b[0m \u001b[1;33m\u001b[0m\u001b[0m\n\u001b[0;32m     17\u001b[0m \u001b[1;31m# append to the overall list of objects\u001b[0m\u001b[1;33m\u001b[0m\u001b[1;33m\u001b[0m\u001b[1;33m\u001b[0m\u001b[0m\n",
      "\u001b[1;31mNameError\u001b[0m: name 'img_masked' is not defined"
     ]
    }
   ],
   "source": [
    "# the example is from 004b_auto_labeler.ipynb  in \"opencv tutorial\" git\n",
    "def df_from_image(image):\n",
    "    count, labels, stats, centr = cv.connectedComponentsWithStats(image)\n",
    "    df = pd.DataFrame(stats, columns=['left', 'top', 'width', 'height', 'area_px'])\n",
    "    # convenience add right/bottom and center x/y\n",
    "    df['bottom'] = df['top'] + df['height'] - 1\n",
    "    df['right'] = df['left'] + df['width'] - 1\n",
    "    df['center_y'] = centr[:,1]\n",
    "    df['center_x'] = centr[:,0]\n",
    "    df['area_bb'] = df['width'] * df['height']\n",
    "    df['density'] = df['area_px'] / df['area_bb']\n",
    "    return df\n",
    "\n",
    "# Find connected components\n",
    "objects_this_image = df_from_image(img_masked)\n",
    "\n",
    "# append to the overall list of objects\n",
    "df_objects = df_objects.append(objects_this_image, ignore_index=True)"
   ]
  },
  {
   "cell_type": "markdown",
   "id": "1760a5ce",
   "metadata": {},
   "source": [
    "# *Pandas has amazing functions for data analysis, series, plotting...*\n",
    "* Rolling windows: https://pandas.pydata.org/pandas-docs/stable/reference/window.html\n",
    "* Series types and functions:  https://pandas.pydata.org/pandas-docs/stable/reference/series.html\n",
    "* General functions (e.g. Pivot, time/date) https://pandas.pydata.org/pandas-docs/stable/reference/api/pandas.pivot.html\n",
    "* Plotting:  https://pandas.pydata.org/pandas-docs/stable/reference/plotting.html\n",
    "\n",
    "Examples:\n",
    "* df[\"column\"].unique()\n",
    "* df.isnull().sum()\n",
    "\n",
    "\n",
    "* df.corr() (de-factors scale)\n",
    "* df.cov() (preserves units)\n",
    "* df.kurt() # kurtosis - a measure of 'tailness' of sample, from 1 to infinity.  A.normal distribution measures \"3\". \n",
    "\n",
    "\n",
    "* df.info()\n",
    "* df describe()\n",
    "* df.describe(include=['O'])         (include categorical)\n",
    "* df.hist()\n"
   ]
  },
  {
   "cell_type": "code",
   "execution_count": 17,
   "id": "9218c7ec",
   "metadata": {},
   "outputs": [],
   "source": [
    "# https://towardsdatascience.com/let-us-understand-the-correlation-matrix-and-covariance-matrix-d42e6b643c22"
   ]
  },
  {
   "cell_type": "markdown",
   "id": "df76649e",
   "metadata": {},
   "source": [
    "# *Relational Data in the context of Data Science (including Pandas and SQLite)*\n",
    "https://www.datasciencecourse.org/notes/relational_data/"
   ]
  },
  {
   "cell_type": "markdown",
   "id": "a7d1353e",
   "metadata": {},
   "source": [
    "# *Pandas vs SQL (command mappings)*\n",
    "https://pandas.pydata.org/pandas-docs/stable/getting_started/comparison/comparison_with_sql.html"
   ]
  },
  {
   "cell_type": "code",
   "execution_count": null,
   "id": "8945c7ce",
   "metadata": {},
   "outputs": [],
   "source": []
  }
 ],
 "metadata": {
  "kernelspec": {
   "display_name": "Python 3 (ipykernel)",
   "language": "python",
   "name": "python3"
  },
  "language_info": {
   "codemirror_mode": {
    "name": "ipython",
    "version": 3
   },
   "file_extension": ".py",
   "mimetype": "text/x-python",
   "name": "python",
   "nbconvert_exporter": "python",
   "pygments_lexer": "ipython3",
   "version": "3.9.12"
  }
 },
 "nbformat": 4,
 "nbformat_minor": 5
}
