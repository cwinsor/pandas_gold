{
 "cells": [
  {
   "cell_type": "markdown",
   "id": "fb3daecb",
   "metadata": {},
   "source": [
    "# Hierarchical Indices and pandas DataFrames"
   ]
  },
  {
   "cell_type": "markdown",
   "id": "c33a937c",
   "metadata": {},
   "source": [
    "## Reference:\n",
    "* https://www.datacamp.com/tutorial/pandas-multi-index\n",
    "* https://www.datacamp.com/courses/data-manipulation-with-pandas\n"
   ]
  },
  {
   "cell_type": "markdown",
   "id": "0185c46d",
   "metadata": {},
   "source": [
    "# What is the Index of a DataFrame?"
   ]
  },
  {
   "cell_type": "code",
   "execution_count": 1,
   "id": "36604308",
   "metadata": {},
   "outputs": [
    {
     "data": {
      "text/html": [
       "<div>\n",
       "<style scoped>\n",
       "    .dataframe tbody tr th:only-of-type {\n",
       "        vertical-align: middle;\n",
       "    }\n",
       "\n",
       "    .dataframe tbody tr th {\n",
       "        vertical-align: top;\n",
       "    }\n",
       "\n",
       "    .dataframe thead th {\n",
       "        text-align: right;\n",
       "    }\n",
       "</style>\n",
       "<table border=\"1\" class=\"dataframe\">\n",
       "  <thead>\n",
       "    <tr style=\"text-align: right;\">\n",
       "      <th></th>\n",
       "      <th>date</th>\n",
       "      <th>language</th>\n",
       "      <th>ex_complete</th>\n",
       "    </tr>\n",
       "  </thead>\n",
       "  <tbody>\n",
       "    <tr>\n",
       "      <th>0</th>\n",
       "      <td>2017-01-01</td>\n",
       "      <td>python</td>\n",
       "      <td>6</td>\n",
       "    </tr>\n",
       "    <tr>\n",
       "      <th>1</th>\n",
       "      <td>2017-01-02</td>\n",
       "      <td>python</td>\n",
       "      <td>5</td>\n",
       "    </tr>\n",
       "    <tr>\n",
       "      <th>2</th>\n",
       "      <td>2017-01-03</td>\n",
       "      <td>python</td>\n",
       "      <td>10</td>\n",
       "    </tr>\n",
       "  </tbody>\n",
       "</table>\n",
       "</div>"
      ],
      "text/plain": [
       "         date language  ex_complete\n",
       "0  2017-01-01   python            6\n",
       "1  2017-01-02   python            5\n",
       "2  2017-01-03   python           10"
      ]
     },
     "execution_count": 1,
     "metadata": {},
     "output_type": "execute_result"
    }
   ],
   "source": [
    "# Import pandas\n",
    "import pandas as pd\n",
    "\n",
    "# Load in data\n",
    "df = pd.read_csv('datasets/user_ex_python.csv')\n",
    "df"
   ]
  },
  {
   "cell_type": "code",
   "execution_count": 2,
   "id": "64f78564",
   "metadata": {},
   "outputs": [
    {
     "data": {
      "text/plain": [
       "RangeIndex(start=0, stop=3, step=1)"
      ]
     },
     "execution_count": 2,
     "metadata": {},
     "output_type": "execute_result"
    }
   ],
   "source": [
    "# Check out index\n",
    "df.index"
   ]
  },
  {
   "cell_type": "code",
   "execution_count": 5,
   "id": "6dcdc144",
   "metadata": {},
   "outputs": [
    {
     "data": {
      "text/html": [
       "<div>\n",
       "<style scoped>\n",
       "    .dataframe tbody tr th:only-of-type {\n",
       "        vertical-align: middle;\n",
       "    }\n",
       "\n",
       "    .dataframe tbody tr th {\n",
       "        vertical-align: top;\n",
       "    }\n",
       "\n",
       "    .dataframe thead th {\n",
       "        text-align: right;\n",
       "    }\n",
       "</style>\n",
       "<table border=\"1\" class=\"dataframe\">\n",
       "  <thead>\n",
       "    <tr style=\"text-align: right;\">\n",
       "      <th></th>\n",
       "      <th>date</th>\n",
       "      <th>language</th>\n",
       "      <th>ex_complete</th>\n",
       "    </tr>\n",
       "  </thead>\n",
       "  <tbody>\n",
       "    <tr>\n",
       "      <th>0</th>\n",
       "      <td>2017-01-01</td>\n",
       "      <td>python</td>\n",
       "      <td>6</td>\n",
       "    </tr>\n",
       "    <tr>\n",
       "      <th>1</th>\n",
       "      <td>2017-01-02</td>\n",
       "      <td>python</td>\n",
       "      <td>5</td>\n",
       "    </tr>\n",
       "  </tbody>\n",
       "</table>\n",
       "</div>"
      ],
      "text/plain": [
       "         date language  ex_complete\n",
       "0  2017-01-01   python            6\n",
       "1  2017-01-02   python            5"
      ]
     },
     "execution_count": 5,
     "metadata": {},
     "output_type": "execute_result"
    }
   ],
   "source": [
    "# We can use this index to slice out a row or rows \n",
    "# Slice and dice data\n",
    "df.loc[:1]"
   ]
  },
  {
   "cell_type": "code",
   "execution_count": 6,
   "id": "38413cac",
   "metadata": {},
   "outputs": [
    {
     "data": {
      "text/html": [
       "<div>\n",
       "<style scoped>\n",
       "    .dataframe tbody tr th:only-of-type {\n",
       "        vertical-align: middle;\n",
       "    }\n",
       "\n",
       "    .dataframe tbody tr th {\n",
       "        vertical-align: top;\n",
       "    }\n",
       "\n",
       "    .dataframe thead th {\n",
       "        text-align: right;\n",
       "    }\n",
       "</style>\n",
       "<table border=\"1\" class=\"dataframe\">\n",
       "  <thead>\n",
       "    <tr style=\"text-align: right;\">\n",
       "      <th></th>\n",
       "      <th>date</th>\n",
       "      <th>language</th>\n",
       "      <th>ex_complete</th>\n",
       "    </tr>\n",
       "    <tr>\n",
       "      <th>date</th>\n",
       "      <th></th>\n",
       "      <th></th>\n",
       "      <th></th>\n",
       "    </tr>\n",
       "  </thead>\n",
       "  <tbody>\n",
       "    <tr>\n",
       "      <th>2017-01-01</th>\n",
       "      <td>2017-01-01</td>\n",
       "      <td>python</td>\n",
       "      <td>6</td>\n",
       "    </tr>\n",
       "    <tr>\n",
       "      <th>2017-01-02</th>\n",
       "      <td>2017-01-02</td>\n",
       "      <td>python</td>\n",
       "      <td>5</td>\n",
       "    </tr>\n",
       "    <tr>\n",
       "      <th>2017-01-03</th>\n",
       "      <td>2017-01-03</td>\n",
       "      <td>python</td>\n",
       "      <td>10</td>\n",
       "    </tr>\n",
       "  </tbody>\n",
       "</table>\n",
       "</div>"
      ],
      "text/plain": [
       "                  date language  ex_complete\n",
       "date                                        \n",
       "2017-01-01  2017-01-01   python            6\n",
       "2017-01-02  2017-01-02   python            5\n",
       "2017-01-03  2017-01-03   python           10"
      ]
     },
     "execution_count": 6,
     "metadata": {},
     "output_type": "execute_result"
    }
   ],
   "source": [
    "# Set new index\n",
    "df.set_index(pd.DatetimeIndex(df['date']), inplace=True)\n",
    "df\n",
    "# note the new index (date)"
   ]
  },
  {
   "cell_type": "code",
   "execution_count": 7,
   "id": "350b8ad1",
   "metadata": {},
   "outputs": [
    {
     "data": {
      "text/plain": [
       "DatetimeIndex(['2017-01-01', '2017-01-02', '2017-01-03'], dtype='datetime64[ns]', name='date', freq=None)"
      ]
     },
     "execution_count": 7,
     "metadata": {},
     "output_type": "execute_result"
    }
   ],
   "source": [
    "# Check out new index\n",
    "df.index"
   ]
  },
  {
   "cell_type": "code",
   "execution_count": 8,
   "id": "94baa07b",
   "metadata": {},
   "outputs": [
    {
     "data": {
      "text/plain": [
       "date           2017-01-02\n",
       "language           python\n",
       "ex_complete             5\n",
       "Name: 2017-01-02 00:00:00, dtype: object"
      ]
     },
     "execution_count": 8,
     "metadata": {},
     "output_type": "execute_result"
    }
   ],
   "source": [
    "# Now you can slice out rows using the DateTimeIndex\n",
    "# Slice and dice data w/ new index\n",
    "df.loc['2017-01-02']"
   ]
  },
  {
   "cell_type": "markdown",
   "id": "4ff9fa9c",
   "metadata": {},
   "source": [
    "# The Multi-index of a pandas DataFrame"
   ]
  },
  {
   "cell_type": "code",
   "execution_count": 15,
   "id": "73d7c38d",
   "metadata": {},
   "outputs": [
    {
     "data": {
      "text/html": [
       "<div>\n",
       "<style scoped>\n",
       "    .dataframe tbody tr th:only-of-type {\n",
       "        vertical-align: middle;\n",
       "    }\n",
       "\n",
       "    .dataframe tbody tr th {\n",
       "        vertical-align: top;\n",
       "    }\n",
       "\n",
       "    .dataframe thead th {\n",
       "        text-align: right;\n",
       "    }\n",
       "</style>\n",
       "<table border=\"1\" class=\"dataframe\">\n",
       "  <thead>\n",
       "    <tr style=\"text-align: right;\">\n",
       "      <th></th>\n",
       "      <th>date</th>\n",
       "      <th>language</th>\n",
       "      <th>ex_complete</th>\n",
       "    </tr>\n",
       "  </thead>\n",
       "  <tbody>\n",
       "    <tr>\n",
       "      <th>0</th>\n",
       "      <td>2017-01-01</td>\n",
       "      <td>python</td>\n",
       "      <td>6</td>\n",
       "    </tr>\n",
       "    <tr>\n",
       "      <th>1</th>\n",
       "      <td>2017-01-02</td>\n",
       "      <td>python</td>\n",
       "      <td>5</td>\n",
       "    </tr>\n",
       "    <tr>\n",
       "      <th>2</th>\n",
       "      <td>2017-01-03</td>\n",
       "      <td>python</td>\n",
       "      <td>10</td>\n",
       "    </tr>\n",
       "    <tr>\n",
       "      <th>3</th>\n",
       "      <td>2017-01-01</td>\n",
       "      <td>r</td>\n",
       "      <td>8</td>\n",
       "    </tr>\n",
       "    <tr>\n",
       "      <th>4</th>\n",
       "      <td>2017-01-02</td>\n",
       "      <td>r</td>\n",
       "      <td>8</td>\n",
       "    </tr>\n",
       "    <tr>\n",
       "      <th>5</th>\n",
       "      <td>2017-01-03</td>\n",
       "      <td>r</td>\n",
       "      <td>8</td>\n",
       "    </tr>\n",
       "  </tbody>\n",
       "</table>\n",
       "</div>"
      ],
      "text/plain": [
       "         date language  ex_complete\n",
       "0  2017-01-01   python            6\n",
       "1  2017-01-02   python            5\n",
       "2  2017-01-03   python           10\n",
       "3  2017-01-01        r            8\n",
       "4  2017-01-02        r            8\n",
       "5  2017-01-03        r            8"
      ]
     },
     "execution_count": 15,
     "metadata": {},
     "output_type": "execute_result"
    }
   ],
   "source": [
    "# Import and check out data\n",
    "df = pd.read_csv('datasets/user_ex.csv')\n",
    "df"
   ]
  },
  {
   "cell_type": "code",
   "execution_count": 16,
   "id": "2804f2bb",
   "metadata": {},
   "outputs": [
    {
     "data": {
      "text/html": [
       "<div>\n",
       "<style scoped>\n",
       "    .dataframe tbody tr th:only-of-type {\n",
       "        vertical-align: middle;\n",
       "    }\n",
       "\n",
       "    .dataframe tbody tr th {\n",
       "        vertical-align: top;\n",
       "    }\n",
       "\n",
       "    .dataframe thead th {\n",
       "        text-align: right;\n",
       "    }\n",
       "</style>\n",
       "<table border=\"1\" class=\"dataframe\">\n",
       "  <thead>\n",
       "    <tr style=\"text-align: right;\">\n",
       "      <th></th>\n",
       "      <th></th>\n",
       "      <th>ex_complete</th>\n",
       "    </tr>\n",
       "    <tr>\n",
       "      <th>date</th>\n",
       "      <th>language</th>\n",
       "      <th></th>\n",
       "    </tr>\n",
       "  </thead>\n",
       "  <tbody>\n",
       "    <tr>\n",
       "      <th>2017-01-01</th>\n",
       "      <th>python</th>\n",
       "      <td>6</td>\n",
       "    </tr>\n",
       "    <tr>\n",
       "      <th>2017-01-02</th>\n",
       "      <th>python</th>\n",
       "      <td>5</td>\n",
       "    </tr>\n",
       "    <tr>\n",
       "      <th>2017-01-03</th>\n",
       "      <th>python</th>\n",
       "      <td>10</td>\n",
       "    </tr>\n",
       "    <tr>\n",
       "      <th>2017-01-01</th>\n",
       "      <th>r</th>\n",
       "      <td>8</td>\n",
       "    </tr>\n",
       "    <tr>\n",
       "      <th>2017-01-02</th>\n",
       "      <th>r</th>\n",
       "      <td>8</td>\n",
       "    </tr>\n",
       "    <tr>\n",
       "      <th>2017-01-03</th>\n",
       "      <th>r</th>\n",
       "      <td>8</td>\n",
       "    </tr>\n",
       "  </tbody>\n",
       "</table>\n",
       "</div>"
      ],
      "text/plain": [
       "                     ex_complete\n",
       "date       language             \n",
       "2017-01-01 python              6\n",
       "2017-01-02 python              5\n",
       "2017-01-03 python             10\n",
       "2017-01-01 r                   8\n",
       "2017-01-02 r                   8\n",
       "2017-01-03 r                   8"
      ]
     },
     "execution_count": 16,
     "metadata": {},
     "output_type": "execute_result"
    }
   ],
   "source": [
    "# Set index\n",
    "df.set_index(['date', 'language'], inplace=True)\n",
    "df"
   ]
  },
  {
   "cell_type": "code",
   "execution_count": 17,
   "id": "1b634674",
   "metadata": {},
   "outputs": [
    {
     "data": {
      "text/plain": [
       "MultiIndex([('2017-01-01', 'python'),\n",
       "            ('2017-01-02', 'python'),\n",
       "            ('2017-01-03', 'python'),\n",
       "            ('2017-01-01',      'r'),\n",
       "            ('2017-01-02',      'r'),\n",
       "            ('2017-01-03',      'r')],\n",
       "           names=['date', 'language'])"
      ]
     },
     "execution_count": 17,
     "metadata": {},
     "output_type": "execute_result"
    }
   ],
   "source": [
    "# Check out multi-index\n",
    "df.index"
   ]
  },
  {
   "cell_type": "code",
   "execution_count": 18,
   "id": "16937460",
   "metadata": {},
   "outputs": [
    {
     "data": {
      "text/html": [
       "<div>\n",
       "<style scoped>\n",
       "    .dataframe tbody tr th:only-of-type {\n",
       "        vertical-align: middle;\n",
       "    }\n",
       "\n",
       "    .dataframe tbody tr th {\n",
       "        vertical-align: top;\n",
       "    }\n",
       "\n",
       "    .dataframe thead th {\n",
       "        text-align: right;\n",
       "    }\n",
       "</style>\n",
       "<table border=\"1\" class=\"dataframe\">\n",
       "  <thead>\n",
       "    <tr style=\"text-align: right;\">\n",
       "      <th></th>\n",
       "      <th></th>\n",
       "      <th>ex_complete</th>\n",
       "    </tr>\n",
       "    <tr>\n",
       "      <th>date</th>\n",
       "      <th>language</th>\n",
       "      <th></th>\n",
       "    </tr>\n",
       "  </thead>\n",
       "  <tbody>\n",
       "    <tr>\n",
       "      <th rowspan=\"2\" valign=\"top\">2017-01-01</th>\n",
       "      <th>python</th>\n",
       "      <td>6</td>\n",
       "    </tr>\n",
       "    <tr>\n",
       "      <th>r</th>\n",
       "      <td>8</td>\n",
       "    </tr>\n",
       "    <tr>\n",
       "      <th rowspan=\"2\" valign=\"top\">2017-01-02</th>\n",
       "      <th>python</th>\n",
       "      <td>5</td>\n",
       "    </tr>\n",
       "    <tr>\n",
       "      <th>r</th>\n",
       "      <td>8</td>\n",
       "    </tr>\n",
       "    <tr>\n",
       "      <th rowspan=\"2\" valign=\"top\">2017-01-03</th>\n",
       "      <th>python</th>\n",
       "      <td>10</td>\n",
       "    </tr>\n",
       "    <tr>\n",
       "      <th>r</th>\n",
       "      <td>8</td>\n",
       "    </tr>\n",
       "  </tbody>\n",
       "</table>\n",
       "</div>"
      ],
      "text/plain": [
       "                     ex_complete\n",
       "date       language             \n",
       "2017-01-01 python              6\n",
       "           r                   8\n",
       "2017-01-02 python              5\n",
       "           r                   8\n",
       "2017-01-03 python             10\n",
       "           r                   8"
      ]
     },
     "execution_count": 18,
     "metadata": {},
     "output_type": "execute_result"
    }
   ],
   "source": [
    "# To be able to slice with a multi-index, you need to sort the index first:\n",
    "# Sort index\n",
    "df.sort_index(inplace=True)\n",
    "df"
   ]
  },
  {
   "cell_type": "code",
   "execution_count": 19,
   "id": "e4416acb",
   "metadata": {},
   "outputs": [
    {
     "data": {
      "text/plain": [
       "ex_complete    8\n",
       "Name: (2017-01-02, r), dtype: int64"
      ]
     },
     "execution_count": 19,
     "metadata": {},
     "output_type": "execute_result"
    }
   ],
   "source": [
    "# Now you can slice out the number of R exercises completed on 2017-01-02 by passing a tuple to the .loc accessor:\n",
    "# Slice & dice your DataFrame\n",
    "df.loc[('2017-01-02', 'r')]"
   ]
  },
  {
   "cell_type": "markdown",
   "id": "fca15d7c",
   "metadata": {},
   "source": [
    "# Hierarchical Indices, groupby Objects and Split-Apply-Combine"
   ]
  },
  {
   "cell_type": "code",
   "execution_count": 30,
   "id": "a0ac0666",
   "metadata": {},
   "outputs": [
    {
     "name": "stdout",
     "output_type": "stream",
     "text": [
      "<class 'pandas.core.frame.DataFrame'>\n",
      "RangeIndex: 244 entries, 0 to 243\n",
      "Data columns (total 7 columns):\n",
      " #   Column      Non-Null Count  Dtype   \n",
      "---  ------      --------------  -----   \n",
      " 0   total_bill  244 non-null    float64 \n",
      " 1   tip         244 non-null    float64 \n",
      " 2   sex         244 non-null    category\n",
      " 3   smoker      244 non-null    category\n",
      " 4   day         244 non-null    category\n",
      " 5   time        244 non-null    category\n",
      " 6   size        244 non-null    int64   \n",
      "dtypes: category(4), float64(2), int64(1)\n",
      "memory usage: 7.4 KB\n"
     ]
    }
   ],
   "source": [
    "# Import and check out data\n",
    "import seaborn as sns\n",
    "tips = sns.load_dataset(\"tips\")\n",
    "# tips.head()\n",
    "# tips.describe()\n",
    "tips.info()"
   ]
  },
  {
   "cell_type": "code",
   "execution_count": 21,
   "id": "24f21007",
   "metadata": {},
   "outputs": [
    {
     "data": {
      "text/plain": [
       "RangeIndex(start=0, stop=244, step=1)"
      ]
     },
     "execution_count": 21,
     "metadata": {},
     "output_type": "execute_result"
    }
   ],
   "source": [
    "tips.index"
   ]
  },
  {
   "cell_type": "code",
   "execution_count": 28,
   "id": "89b87272",
   "metadata": {},
   "outputs": [
    {
     "data": {
      "image/png": "[encoded data removed]",
      "text/plain": [
       "<Figure size 616.35x540 with 12 Axes>"
      ]
     },
     "metadata": {},
     "output_type": "display_data"
    }
   ],
   "source": [
    "# do some visual EDA \n",
    "# Import pyplot, figures inline, set style, plot pairplot\n",
    "import matplotlib.pyplot as plt\n",
    "%matplotlib inline\n",
    "sns.set()\n",
    "sns.pairplot(tips, hue='sex');"
   ]
  },
  {
   "cell_type": "code",
   "execution_count": 33,
   "id": "b0719aa9",
   "metadata": {},
   "outputs": [
    {
     "data": {
      "text/html": [
       "<div>\n",
       "<style scoped>\n",
       "    .dataframe tbody tr th:only-of-type {\n",
       "        vertical-align: middle;\n",
       "    }\n",
       "\n",
       "    .dataframe tbody tr th {\n",
       "        vertical-align: top;\n",
       "    }\n",
       "\n",
       "    .dataframe thead th {\n",
       "        text-align: right;\n",
       "    }\n",
       "</style>\n",
       "<table border=\"1\" class=\"dataframe\">\n",
       "  <thead>\n",
       "    <tr style=\"text-align: right;\">\n",
       "      <th></th>\n",
       "      <th>total_bill</th>\n",
       "      <th>tip</th>\n",
       "      <th>size</th>\n",
       "    </tr>\n",
       "    <tr>\n",
       "      <th>smoker</th>\n",
       "      <th></th>\n",
       "      <th></th>\n",
       "      <th></th>\n",
       "    </tr>\n",
       "  </thead>\n",
       "  <tbody>\n",
       "    <tr>\n",
       "      <th>Yes</th>\n",
       "      <td>20.756344</td>\n",
       "      <td>3.008710</td>\n",
       "      <td>2.408602</td>\n",
       "    </tr>\n",
       "    <tr>\n",
       "      <th>No</th>\n",
       "      <td>19.188278</td>\n",
       "      <td>2.991854</td>\n",
       "      <td>2.668874</td>\n",
       "    </tr>\n",
       "  </tbody>\n",
       "</table>\n",
       "</div>"
      ],
      "text/plain": [
       "        total_bill       tip      size\n",
       "smoker                                \n",
       "Yes      20.756344  3.008710  2.408602\n",
       "No       19.188278  2.991854  2.668874"
      ]
     },
     "execution_count": 33,
     "metadata": {},
     "output_type": "execute_result"
    }
   ],
   "source": [
    "# If you want the average tip difference between 'smokers' and 'non-smokers', split the original DataFrame by the 'smoker'\n",
    "# Get mean of smoker/non-smoker groups\n",
    "df = tips.groupby('smoker').mean()\n",
    "df"
   ]
  },
  {
   "cell_type": "code",
   "execution_count": 34,
   "id": "d540ae0e",
   "metadata": {},
   "outputs": [
    {
     "data": {
      "text/plain": [
       "CategoricalIndex(['Yes', 'No'], categories=['Yes', 'No'], ordered=False, dtype='category', name='smoker')"
      ]
     },
     "execution_count": 34,
     "metadata": {},
     "output_type": "execute_result"
    }
   ],
   "source": [
    "# Check out new index\n",
    "df.index"
   ]
  },
  {
   "cell_type": "code",
   "execution_count": 36,
   "id": "44beaaea",
   "metadata": {},
   "outputs": [
    {
     "data": {
      "text/html": [
       "<div>\n",
       "<style scoped>\n",
       "    .dataframe tbody tr th:only-of-type {\n",
       "        vertical-align: middle;\n",
       "    }\n",
       "\n",
       "    .dataframe tbody tr th {\n",
       "        vertical-align: top;\n",
       "    }\n",
       "\n",
       "    .dataframe thead th {\n",
       "        text-align: right;\n",
       "    }\n",
       "</style>\n",
       "<table border=\"1\" class=\"dataframe\">\n",
       "  <thead>\n",
       "    <tr style=\"text-align: right;\">\n",
       "      <th></th>\n",
       "      <th>smoker</th>\n",
       "      <th>total_bill</th>\n",
       "      <th>tip</th>\n",
       "      <th>size</th>\n",
       "    </tr>\n",
       "  </thead>\n",
       "  <tbody>\n",
       "    <tr>\n",
       "      <th>0</th>\n",
       "      <td>Yes</td>\n",
       "      <td>20.756344</td>\n",
       "      <td>3.008710</td>\n",
       "      <td>2.408602</td>\n",
       "    </tr>\n",
       "    <tr>\n",
       "      <th>1</th>\n",
       "      <td>No</td>\n",
       "      <td>19.188278</td>\n",
       "      <td>2.991854</td>\n",
       "      <td>2.668874</td>\n",
       "    </tr>\n",
       "  </tbody>\n",
       "</table>\n",
       "</div>"
      ],
      "text/plain": [
       "  smoker  total_bill       tip      size\n",
       "0    Yes   20.756344  3.008710  2.408602\n",
       "1     No   19.188278  2.991854  2.668874"
      ]
     },
     "execution_count": 36,
     "metadata": {},
     "output_type": "execute_result"
    }
   ],
   "source": [
    "# If desired, you can reset the index so that 'smoker' becomes a column of the DataFrame:\n",
    "# Reset the index\n",
    "df.reset_index()"
   ]
  },
  {
   "cell_type": "markdown",
   "id": "5e947590",
   "metadata": {},
   "source": [
    "# Now it's time to find out how hierarchical indices arise from split-apply-combine and groupby operations."
   ]
  },
  {
   "cell_type": "code",
   "execution_count": 38,
   "id": "0066e2b9",
   "metadata": {},
   "outputs": [
    {
     "data": {
      "text/html": [
       "<div>\n",
       "<style scoped>\n",
       "    .dataframe tbody tr th:only-of-type {\n",
       "        vertical-align: middle;\n",
       "    }\n",
       "\n",
       "    .dataframe tbody tr th {\n",
       "        vertical-align: top;\n",
       "    }\n",
       "\n",
       "    .dataframe thead th {\n",
       "        text-align: right;\n",
       "    }\n",
       "</style>\n",
       "<table border=\"1\" class=\"dataframe\">\n",
       "  <thead>\n",
       "    <tr style=\"text-align: right;\">\n",
       "      <th></th>\n",
       "      <th></th>\n",
       "      <th>total_bill</th>\n",
       "      <th>tip</th>\n",
       "      <th>size</th>\n",
       "    </tr>\n",
       "    <tr>\n",
       "      <th>smoker</th>\n",
       "      <th>time</th>\n",
       "      <th></th>\n",
       "      <th></th>\n",
       "      <th></th>\n",
       "    </tr>\n",
       "  </thead>\n",
       "  <tbody>\n",
       "    <tr>\n",
       "      <th rowspan=\"2\" valign=\"top\">Yes</th>\n",
       "      <th>Lunch</th>\n",
       "      <td>17.399130</td>\n",
       "      <td>2.834348</td>\n",
       "      <td>2.217391</td>\n",
       "    </tr>\n",
       "    <tr>\n",
       "      <th>Dinner</th>\n",
       "      <td>21.859429</td>\n",
       "      <td>3.066000</td>\n",
       "      <td>2.471429</td>\n",
       "    </tr>\n",
       "    <tr>\n",
       "      <th rowspan=\"2\" valign=\"top\">No</th>\n",
       "      <th>Lunch</th>\n",
       "      <td>17.050889</td>\n",
       "      <td>2.673778</td>\n",
       "      <td>2.511111</td>\n",
       "    </tr>\n",
       "    <tr>\n",
       "      <th>Dinner</th>\n",
       "      <td>20.095660</td>\n",
       "      <td>3.126887</td>\n",
       "      <td>2.735849</td>\n",
       "    </tr>\n",
       "  </tbody>\n",
       "</table>\n",
       "</div>"
      ],
      "text/plain": [
       "               total_bill       tip      size\n",
       "smoker time                                  \n",
       "Yes    Lunch    17.399130  2.834348  2.217391\n",
       "       Dinner   21.859429  3.066000  2.471429\n",
       "No     Lunch    17.050889  2.673778  2.511111\n",
       "       Dinner   20.095660  3.126887  2.735849"
      ]
     },
     "execution_count": 38,
     "metadata": {},
     "output_type": "execute_result"
    }
   ],
   "source": [
    "# group a dataset according to two features\n",
    "# To do this, pass the column names you wish to group by as a list:\n",
    "# Group by two columns\n",
    "df = tips.groupby(['smoker','time']).mean()\n",
    "df"
   ]
  },
  {
   "cell_type": "code",
   "execution_count": 39,
   "id": "5efad69a",
   "metadata": {},
   "outputs": [
    {
     "data": {
      "text/plain": [
       "MultiIndex([('Yes',  'Lunch'),\n",
       "            ('Yes', 'Dinner'),\n",
       "            ( 'No',  'Lunch'),\n",
       "            ( 'No', 'Dinner')],\n",
       "           names=['smoker', 'time'])"
      ]
     },
     "execution_count": 39,
     "metadata": {},
     "output_type": "execute_result"
    }
   ],
   "source": [
    "# Check out index\n",
    "df.index"
   ]
  },
  {
   "cell_type": "code",
   "execution_count": 40,
   "id": "ef9bde23",
   "metadata": {},
   "outputs": [
    {
     "data": {
      "text/plain": [
       "smoker  time  \n",
       "Yes     Lunch      23\n",
       "        Dinner     70\n",
       "No      Lunch      45\n",
       "        Dinner    106\n",
       "dtype: int64"
      ]
     },
     "execution_count": 40,
     "metadata": {},
     "output_type": "execute_result"
    }
   ],
   "source": [
    "# You can do a bunch of useful things such as getting the counts in each grouping\n",
    "# Group by two features\n",
    "tips.groupby(['smoker','time']).size()"
   ]
  },
  {
   "cell_type": "code",
   "execution_count": 41,
   "id": "13872d31",
   "metadata": {},
   "outputs": [
    {
     "data": {
      "text/html": [
       "<div>\n",
       "<style scoped>\n",
       "    .dataframe tbody tr th:only-of-type {\n",
       "        vertical-align: middle;\n",
       "    }\n",
       "\n",
       "    .dataframe tbody tr th {\n",
       "        vertical-align: top;\n",
       "    }\n",
       "\n",
       "    .dataframe thead th {\n",
       "        text-align: right;\n",
       "    }\n",
       "</style>\n",
       "<table border=\"1\" class=\"dataframe\">\n",
       "  <thead>\n",
       "    <tr style=\"text-align: right;\">\n",
       "      <th></th>\n",
       "      <th></th>\n",
       "      <th>total_bill</th>\n",
       "      <th>tip</th>\n",
       "      <th>size</th>\n",
       "    </tr>\n",
       "    <tr>\n",
       "      <th>time</th>\n",
       "      <th>smoker</th>\n",
       "      <th></th>\n",
       "      <th></th>\n",
       "      <th></th>\n",
       "    </tr>\n",
       "  </thead>\n",
       "  <tbody>\n",
       "    <tr>\n",
       "      <th>Lunch</th>\n",
       "      <th>Yes</th>\n",
       "      <td>17.399130</td>\n",
       "      <td>2.834348</td>\n",
       "      <td>2.217391</td>\n",
       "    </tr>\n",
       "    <tr>\n",
       "      <th>Dinner</th>\n",
       "      <th>Yes</th>\n",
       "      <td>21.859429</td>\n",
       "      <td>3.066000</td>\n",
       "      <td>2.471429</td>\n",
       "    </tr>\n",
       "    <tr>\n",
       "      <th>Lunch</th>\n",
       "      <th>No</th>\n",
       "      <td>17.050889</td>\n",
       "      <td>2.673778</td>\n",
       "      <td>2.511111</td>\n",
       "    </tr>\n",
       "    <tr>\n",
       "      <th>Dinner</th>\n",
       "      <th>No</th>\n",
       "      <td>20.095660</td>\n",
       "      <td>3.126887</td>\n",
       "      <td>2.735849</td>\n",
       "    </tr>\n",
       "  </tbody>\n",
       "</table>\n",
       "</div>"
      ],
      "text/plain": [
       "               total_bill       tip      size\n",
       "time   smoker                                \n",
       "Lunch  Yes      17.399130  2.834348  2.217391\n",
       "Dinner Yes      21.859429  3.066000  2.471429\n",
       "Lunch  No       17.050889  2.673778  2.511111\n",
       "Dinner No       20.095660  3.126887  2.735849"
      ]
     },
     "execution_count": 41,
     "metadata": {},
     "output_type": "execute_result"
    }
   ],
   "source": [
    "# swap the levels of the hierarchical index also so that 'time' occurs before 'smoker in the index\n",
    "# Swap levels of multi-index\n",
    "df.swaplevel()"
   ]
  },
  {
   "cell_type": "code",
   "execution_count": 43,
   "id": "2dc1dfcd",
   "metadata": {},
   "outputs": [
    {
     "data": {
      "text/html": [
       "<div>\n",
       "<style scoped>\n",
       "    .dataframe tbody tr th:only-of-type {\n",
       "        vertical-align: middle;\n",
       "    }\n",
       "\n",
       "    .dataframe tbody tr th {\n",
       "        vertical-align: top;\n",
       "    }\n",
       "\n",
       "    .dataframe thead tr th {\n",
       "        text-align: left;\n",
       "    }\n",
       "\n",
       "    .dataframe thead tr:last-of-type th {\n",
       "        text-align: right;\n",
       "    }\n",
       "</style>\n",
       "<table border=\"1\" class=\"dataframe\">\n",
       "  <thead>\n",
       "    <tr>\n",
       "      <th></th>\n",
       "      <th colspan=\"2\" halign=\"left\">total_bill</th>\n",
       "      <th colspan=\"2\" halign=\"left\">tip</th>\n",
       "      <th colspan=\"2\" halign=\"left\">size</th>\n",
       "    </tr>\n",
       "    <tr>\n",
       "      <th>time</th>\n",
       "      <th>Lunch</th>\n",
       "      <th>Dinner</th>\n",
       "      <th>Lunch</th>\n",
       "      <th>Dinner</th>\n",
       "      <th>Lunch</th>\n",
       "      <th>Dinner</th>\n",
       "    </tr>\n",
       "    <tr>\n",
       "      <th>smoker</th>\n",
       "      <th></th>\n",
       "      <th></th>\n",
       "      <th></th>\n",
       "      <th></th>\n",
       "      <th></th>\n",
       "      <th></th>\n",
       "    </tr>\n",
       "  </thead>\n",
       "  <tbody>\n",
       "    <tr>\n",
       "      <th>Yes</th>\n",
       "      <td>17.399130</td>\n",
       "      <td>21.859429</td>\n",
       "      <td>2.834348</td>\n",
       "      <td>3.066000</td>\n",
       "      <td>2.217391</td>\n",
       "      <td>2.471429</td>\n",
       "    </tr>\n",
       "    <tr>\n",
       "      <th>No</th>\n",
       "      <td>17.050889</td>\n",
       "      <td>20.095660</td>\n",
       "      <td>2.673778</td>\n",
       "      <td>3.126887</td>\n",
       "      <td>2.511111</td>\n",
       "      <td>2.735849</td>\n",
       "    </tr>\n",
       "  </tbody>\n",
       "</table>\n",
       "</div>"
      ],
      "text/plain": [
       "       total_bill                  tip                size          \n",
       "time        Lunch     Dinner     Lunch    Dinner     Lunch    Dinner\n",
       "smoker                                                              \n",
       "Yes     17.399130  21.859429  2.834348  3.066000  2.217391  2.471429\n",
       "No      17.050889  20.095660  2.673778  3.126887  2.511111  2.735849"
      ]
     },
     "execution_count": 43,
     "metadata": {},
     "output_type": "execute_result"
    }
   ],
   "source": [
    "# remove one of these features from the hierarchical index and form different columns with respect to that feature\n",
    "# Unstack your multi-index\n",
    "df.unstack()"
   ]
  },
  {
   "cell_type": "code",
   "execution_count": 44,
   "id": "109d3e97",
   "metadata": {},
   "outputs": [
    {
     "data": {
      "text/html": [
       "<div>\n",
       "<style scoped>\n",
       "    .dataframe tbody tr th:only-of-type {\n",
       "        vertical-align: middle;\n",
       "    }\n",
       "\n",
       "    .dataframe tbody tr th {\n",
       "        vertical-align: top;\n",
       "    }\n",
       "\n",
       "    .dataframe thead tr th {\n",
       "        text-align: left;\n",
       "    }\n",
       "\n",
       "    .dataframe thead tr:last-of-type th {\n",
       "        text-align: right;\n",
       "    }\n",
       "</style>\n",
       "<table border=\"1\" class=\"dataframe\">\n",
       "  <thead>\n",
       "    <tr>\n",
       "      <th></th>\n",
       "      <th colspan=\"2\" halign=\"left\">total_bill</th>\n",
       "      <th colspan=\"2\" halign=\"left\">tip</th>\n",
       "      <th colspan=\"2\" halign=\"left\">size</th>\n",
       "    </tr>\n",
       "    <tr>\n",
       "      <th>smoker</th>\n",
       "      <th>Yes</th>\n",
       "      <th>No</th>\n",
       "      <th>Yes</th>\n",
       "      <th>No</th>\n",
       "      <th>Yes</th>\n",
       "      <th>No</th>\n",
       "    </tr>\n",
       "    <tr>\n",
       "      <th>time</th>\n",
       "      <th></th>\n",
       "      <th></th>\n",
       "      <th></th>\n",
       "      <th></th>\n",
       "      <th></th>\n",
       "      <th></th>\n",
       "    </tr>\n",
       "  </thead>\n",
       "  <tbody>\n",
       "    <tr>\n",
       "      <th>Lunch</th>\n",
       "      <td>17.399130</td>\n",
       "      <td>17.050889</td>\n",
       "      <td>2.834348</td>\n",
       "      <td>2.673778</td>\n",
       "      <td>2.217391</td>\n",
       "      <td>2.511111</td>\n",
       "    </tr>\n",
       "    <tr>\n",
       "      <th>Dinner</th>\n",
       "      <td>21.859429</td>\n",
       "      <td>20.095660</td>\n",
       "      <td>3.066000</td>\n",
       "      <td>3.126887</td>\n",
       "      <td>2.471429</td>\n",
       "      <td>2.735849</td>\n",
       "    </tr>\n",
       "  </tbody>\n",
       "</table>\n",
       "</div>"
      ],
      "text/plain": [
       "       total_bill                  tip                size          \n",
       "smoker        Yes         No       Yes        No       Yes        No\n",
       "time                                                                \n",
       "Lunch   17.399130  17.050889  2.834348  2.673778  2.217391  2.511111\n",
       "Dinner  21.859429  20.095660  3.066000  3.126887  2.471429  2.735849"
      ]
     },
     "execution_count": 44,
     "metadata": {},
     "output_type": "execute_result"
    }
   ],
   "source": [
    "# unstack on the outer feature of the index using the keyword argument 'level':\n",
    "# Unsstack the outer index\n",
    "df.unstack(level=0)"
   ]
  },
  {
   "cell_type": "code",
   "execution_count": null,
   "id": "9646790a",
   "metadata": {},
   "outputs": [],
   "source": []
  },
  {
   "cell_type": "code",
   "execution_count": 71,
   "id": "8a478af7",
   "metadata": {},
   "outputs": [
    {
     "data": {
      "text/html": [
       "<div>\n",
       "<style scoped>\n",
       "    .dataframe tbody tr th:only-of-type {\n",
       "        vertical-align: middle;\n",
       "    }\n",
       "\n",
       "    .dataframe tbody tr th {\n",
       "        vertical-align: top;\n",
       "    }\n",
       "\n",
       "    .dataframe thead th {\n",
       "        text-align: right;\n",
       "    }\n",
       "</style>\n",
       "<table border=\"1\" class=\"dataframe\">\n",
       "  <thead>\n",
       "    <tr style=\"text-align: right;\">\n",
       "      <th></th>\n",
       "      <th>title</th>\n",
       "      <th>rating</th>\n",
       "      <th>ratingLevel</th>\n",
       "      <th>ratingDescription</th>\n",
       "      <th>release year</th>\n",
       "      <th>user rating score</th>\n",
       "      <th>user rating size</th>\n",
       "    </tr>\n",
       "  </thead>\n",
       "  <tbody>\n",
       "    <tr>\n",
       "      <th>0</th>\n",
       "      <td>White Chicks</td>\n",
       "      <td>PG-13</td>\n",
       "      <td>crude and sexual humor, language and some drug...</td>\n",
       "      <td>80</td>\n",
       "      <td>2004</td>\n",
       "      <td>82.0</td>\n",
       "      <td>80</td>\n",
       "    </tr>\n",
       "    <tr>\n",
       "      <th>1</th>\n",
       "      <td>Lucky Number Slevin</td>\n",
       "      <td>R</td>\n",
       "      <td>strong violence, sexual content and adult lang...</td>\n",
       "      <td>100</td>\n",
       "      <td>2006</td>\n",
       "      <td>NaN</td>\n",
       "      <td>82</td>\n",
       "    </tr>\n",
       "    <tr>\n",
       "      <th>2</th>\n",
       "      <td>Grey's Anatomy</td>\n",
       "      <td>TV-14</td>\n",
       "      <td>Parents strongly cautioned. May be unsuitable ...</td>\n",
       "      <td>90</td>\n",
       "      <td>2016</td>\n",
       "      <td>98.0</td>\n",
       "      <td>80</td>\n",
       "    </tr>\n",
       "    <tr>\n",
       "      <th>3</th>\n",
       "      <td>Prison Break</td>\n",
       "      <td>TV-14</td>\n",
       "      <td>Parents strongly cautioned. May be unsuitable ...</td>\n",
       "      <td>90</td>\n",
       "      <td>2008</td>\n",
       "      <td>98.0</td>\n",
       "      <td>80</td>\n",
       "    </tr>\n",
       "    <tr>\n",
       "      <th>4</th>\n",
       "      <td>How I Met Your Mother</td>\n",
       "      <td>TV-PG</td>\n",
       "      <td>Parental guidance suggested. May not be suitab...</td>\n",
       "      <td>70</td>\n",
       "      <td>2014</td>\n",
       "      <td>94.0</td>\n",
       "      <td>80</td>\n",
       "    </tr>\n",
       "  </tbody>\n",
       "</table>\n",
       "</div>"
      ],
      "text/plain": [
       "                   title rating  \\\n",
       "0           White Chicks  PG-13   \n",
       "1    Lucky Number Slevin      R   \n",
       "2         Grey's Anatomy  TV-14   \n",
       "3           Prison Break  TV-14   \n",
       "4  How I Met Your Mother  TV-PG   \n",
       "\n",
       "                                         ratingLevel  ratingDescription  \\\n",
       "0  crude and sexual humor, language and some drug...                 80   \n",
       "1  strong violence, sexual content and adult lang...                100   \n",
       "2  Parents strongly cautioned. May be unsuitable ...                 90   \n",
       "3  Parents strongly cautioned. May be unsuitable ...                 90   \n",
       "4  Parental guidance suggested. May not be suitab...                 70   \n",
       "\n",
       "   release year  user rating score  user rating size  \n",
       "0          2004               82.0                80  \n",
       "1          2006                NaN                82  \n",
       "2          2016               98.0                80  \n",
       "3          2008               98.0                80  \n",
       "4          2014               94.0                80  "
      ]
     },
     "execution_count": 71,
     "metadata": {},
     "output_type": "execute_result"
    }
   ],
   "source": [
    "# Import data and check out head of DataFrame\n",
    "# data from https://data.world/chasewillden/netflix-shows\n",
    "df = pd.read_csv('datasets/netflix.csv')\n",
    "df.head()"
   ]
  },
  {
   "cell_type": "code",
   "execution_count": null,
   "id": "22086152",
   "metadata": {},
   "outputs": [],
   "source": []
  },
  {
   "cell_type": "code",
   "execution_count": 72,
   "id": "279c7cbd",
   "metadata": {},
   "outputs": [],
   "source": [
    "# the f*cking \"basic indexing\" is a disaster because it refers to colums.  Waste of time!!!\n",
    "# the f*cking \".loc\" function is a disaster because it does not scale to multi-index.  Waste of time!!!\n",
    "# the f*cking \"attribute access\" is just an alltogether disaster\n",
    "\n",
    "# basic indexing...\n",
    "# df[2] # does not work - \"basic indexing\" means columns\n",
    "# df['title']) # works but generally not useful by itself - it returns a Series\n",
    "# df[['title', 'rating']] # marginally useful - it returns a Dataframe\n",
    "\n",
    "# .loc\n",
    "# type(df.loc[2]) # works but generally not useful (does not scale) because it returns a single row - a pd.Series\n",
    "\n",
    "# \"attribute\" - I mean who thinks up this shit - useless!!!\n",
    "# df.title # works but the attribute name is hard-coded - cannot use a variable to indirect.  Stupid!!!!\n"
   ]
  },
  {
   "cell_type": "markdown",
   "id": "4c452a35",
   "metadata": {},
   "source": [
    "# .info(), pairplot, describe(), head()\n",
    "* nulls count"
   ]
  },
  {
   "cell_type": "code",
   "execution_count": 108,
   "id": "8c37766b",
   "metadata": {},
   "outputs": [
    {
     "name": "stdout",
     "output_type": "stream",
     "text": [
      "<class 'pandas.core.frame.DataFrame'>\n",
      "<class 'pandas.core.frame.DataFrame'>\n",
      "<class 'pandas.core.frame.DataFrame'>\n",
      "<class 'pandas.core.indexes.numeric.Int64Index'>\n"
     ]
    }
   ],
   "source": [
    "#print(type(df.info())) # returns nothing - prints to stdout... <yuk!>\n",
    "print(type(df.describe())) # returns DataFrame\n",
    "print(type(df.dropna())) # returns DataFrame\n",
    "print(type(df.drop_duplicates())) # returns DataFrame\n",
    "print(type(df.index)) # returns pandas.core.indexes.numeric.Int64Index'"
   ]
  },
  {
   "cell_type": "code",
   "execution_count": 96,
   "id": "d76ab729",
   "metadata": {},
   "outputs": [
    {
     "name": "stdout",
     "output_type": "stream",
     "text": [
      "<class 'pandas.core.frame.DataFrame'>\n",
      "RangeIndex: 1000 entries, 0 to 999\n",
      "Data columns (total 7 columns):\n",
      " #   Column             Non-Null Count  Dtype  \n",
      "---  ------             --------------  -----  \n",
      " 0   title              1000 non-null   object \n",
      " 1   rating             1000 non-null   object \n",
      " 2   ratingLevel        941 non-null    object \n",
      " 3   ratingDescription  1000 non-null   int64  \n",
      " 4   release year       1000 non-null   int64  \n",
      " 5   user rating score  605 non-null    float64\n",
      " 6   user rating size   1000 non-null   int64  \n",
      "dtypes: float64(1), int64(3), object(3)\n",
      "memory usage: 54.8+ KB\n"
     ]
    }
   ],
   "source": [
    "y = df.info()"
   ]
  },
  {
   "cell_type": "code",
   "execution_count": 97,
   "id": "697ee4e5",
   "metadata": {},
   "outputs": [
    {
     "data": {
      "text/html": [
       "<div>\n",
       "<style scoped>\n",
       "    .dataframe tbody tr th:only-of-type {\n",
       "        vertical-align: middle;\n",
       "    }\n",
       "\n",
       "    .dataframe tbody tr th {\n",
       "        vertical-align: top;\n",
       "    }\n",
       "\n",
       "    .dataframe thead th {\n",
       "        text-align: right;\n",
       "    }\n",
       "</style>\n",
       "<table border=\"1\" class=\"dataframe\">\n",
       "  <thead>\n",
       "    <tr style=\"text-align: right;\">\n",
       "      <th></th>\n",
       "      <th>ratingDescription</th>\n",
       "      <th>release year</th>\n",
       "      <th>user rating score</th>\n",
       "      <th>user rating size</th>\n",
       "    </tr>\n",
       "  </thead>\n",
       "  <tbody>\n",
       "    <tr>\n",
       "      <th>count</th>\n",
       "      <td>1000.00000</td>\n",
       "      <td>1000.000000</td>\n",
       "      <td>605.000000</td>\n",
       "      <td>1000.000000</td>\n",
       "    </tr>\n",
       "    <tr>\n",
       "      <th>mean</th>\n",
       "      <td>67.36600</td>\n",
       "      <td>2010.335000</td>\n",
       "      <td>84.094215</td>\n",
       "      <td>80.783000</td>\n",
       "    </tr>\n",
       "    <tr>\n",
       "      <th>std</th>\n",
       "      <td>30.78561</td>\n",
       "      <td>8.877927</td>\n",
       "      <td>12.344371</td>\n",
       "      <td>0.973066</td>\n",
       "    </tr>\n",
       "    <tr>\n",
       "      <th>min</th>\n",
       "      <td>10.00000</td>\n",
       "      <td>1940.000000</td>\n",
       "      <td>55.000000</td>\n",
       "      <td>80.000000</td>\n",
       "    </tr>\n",
       "    <tr>\n",
       "      <th>25%</th>\n",
       "      <td>35.00000</td>\n",
       "      <td>2007.000000</td>\n",
       "      <td>75.000000</td>\n",
       "      <td>80.000000</td>\n",
       "    </tr>\n",
       "    <tr>\n",
       "      <th>50%</th>\n",
       "      <td>60.00000</td>\n",
       "      <td>2015.000000</td>\n",
       "      <td>88.000000</td>\n",
       "      <td>80.000000</td>\n",
       "    </tr>\n",
       "    <tr>\n",
       "      <th>75%</th>\n",
       "      <td>90.00000</td>\n",
       "      <td>2016.000000</td>\n",
       "      <td>95.000000</td>\n",
       "      <td>82.000000</td>\n",
       "    </tr>\n",
       "    <tr>\n",
       "      <th>max</th>\n",
       "      <td>124.00000</td>\n",
       "      <td>2017.000000</td>\n",
       "      <td>99.000000</td>\n",
       "      <td>82.000000</td>\n",
       "    </tr>\n",
       "  </tbody>\n",
       "</table>\n",
       "</div>"
      ],
      "text/plain": [
       "       ratingDescription  release year  user rating score  user rating size\n",
       "count         1000.00000   1000.000000         605.000000       1000.000000\n",
       "mean            67.36600   2010.335000          84.094215         80.783000\n",
       "std             30.78561      8.877927          12.344371          0.973066\n",
       "min             10.00000   1940.000000          55.000000         80.000000\n",
       "25%             35.00000   2007.000000          75.000000         80.000000\n",
       "50%             60.00000   2015.000000          88.000000         80.000000\n",
       "75%             90.00000   2016.000000          95.000000         82.000000\n",
       "max            124.00000   2017.000000          99.000000         82.000000"
      ]
     },
     "execution_count": 97,
     "metadata": {},
     "output_type": "execute_result"
    }
   ],
   "source": [
    "df.describe()"
   ]
  },
  {
   "cell_type": "markdown",
   "id": "19f91d4a",
   "metadata": {},
   "source": [
    "# Drop rows with missing values and drop duplicate\n",
    "* df.dropna(inplace=True)\n",
    "* df.drop_duplicates(inplace=True)"
   ]
  },
  {
   "cell_type": "code",
   "execution_count": 98,
   "id": "c88a98c9",
   "metadata": {},
   "outputs": [],
   "source": [
    "df.dropna(inplace=True)\n",
    "df.drop_duplicates(inplace=True)"
   ]
  },
  {
   "cell_type": "code",
   "execution_count": 99,
   "id": "cefc3bdc",
   "metadata": {},
   "outputs": [
    {
     "name": "stdout",
     "output_type": "stream",
     "text": [
      "<class 'pandas.core.frame.DataFrame'>\n",
      "Int64Index: 246 entries, 0 to 979\n",
      "Data columns (total 7 columns):\n",
      " #   Column             Non-Null Count  Dtype  \n",
      "---  ------             --------------  -----  \n",
      " 0   title              246 non-null    object \n",
      " 1   rating             246 non-null    object \n",
      " 2   ratingLevel        246 non-null    object \n",
      " 3   ratingDescription  246 non-null    int64  \n",
      " 4   release year       246 non-null    int64  \n",
      " 5   user rating score  246 non-null    float64\n",
      " 6   user rating size   246 non-null    int64  \n",
      "dtypes: float64(1), int64(3), object(3)\n",
      "memory usage: 15.4+ KB\n"
     ]
    }
   ],
   "source": [
    "df.info()"
   ]
  },
  {
   "cell_type": "markdown",
   "id": "9ff42909",
   "metadata": {},
   "source": [
    "# Visualize pairplot of df\n",
    "* sns.pairplot(df, hue='rating');"
   ]
  },
  {
   "cell_type": "code",
   "execution_count": 100,
   "id": "9d423e6e",
   "metadata": {},
   "outputs": [
    {
     "data": {
      "image/png": "[encoded data removed]",
      "text/plain": [
       "<Figure size 808.1x720 with 20 Axes>"
      ]
     },
     "metadata": {
      "needs_background": "light"
     },
     "output_type": "display_data"
    }
   ],
   "source": [
    "# Visualize pairplot of df\n",
    "sns.pairplot(df, hue='rating');"
   ]
  },
  {
   "cell_type": "markdown",
   "id": "5d328f9b",
   "metadata": {},
   "source": [
    "# Groupbys and split-apply-combine to answer the question"
   ]
  },
  {
   "cell_type": "code",
   "execution_count": 127,
   "id": "aee113f2",
   "metadata": {},
   "outputs": [
    {
     "name": "stdout",
     "output_type": "stream",
     "text": [
      "<class 'pandas.core.groupby.generic.DataFrameGroupBy'>\n"
     ]
    }
   ],
   "source": [
    "print(type(df.groupby('release year'))) # returns DataFrameGroupBy"
   ]
  },
  {
   "cell_type": "code",
   "execution_count": 128,
   "id": "383f3211",
   "metadata": {},
   "outputs": [],
   "source": [
    "# Group by year\n",
    "df_by_year = df.groupby('release year')"
   ]
  },
  {
   "cell_type": "code",
   "execution_count": 130,
   "id": "26b32f90",
   "metadata": {},
   "outputs": [
    {
     "name": "stdout",
     "output_type": "stream",
     "text": [
      "<pandas.core.groupby.generic.DataFrameGroupBy object at 0x00000197B46CD7C0>\n"
     ]
    }
   ],
   "source": [
    "print(df_by_year)"
   ]
  },
  {
   "cell_type": "code",
   "execution_count": 126,
   "id": "f9f03532",
   "metadata": {},
   "outputs": [
    {
     "data": {
      "text/plain": [
       "pandas.core.frame.DataFrame"
      ]
     },
     "execution_count": 126,
     "metadata": {},
     "output_type": "execute_result"
    }
   ],
   "source": [
    "type(df_by_year.head()) ### fucking A"
   ]
  },
  {
   "cell_type": "code",
   "execution_count": 125,
   "id": "93c5969a",
   "metadata": {},
   "outputs": [
    {
     "name": "stdout",
     "output_type": "stream",
     "text": [
      "<class 'pandas.core.frame.DataFrame'>\n",
      "<class 'pandas.core.frame.DataFrame'>\n",
      "<class 'pandas.core.frame.DataFrame'>\n",
      "<class 'pandas.core.indexes.numeric.Int64Index'>\n"
     ]
    },
    {
     "data": {
      "text/plain": [
       "Int64Index([1940, 1978, 1982, 1986, 1987, 1989, 1990, 1992, 1993, 1994, 1995,\n",
       "            1997, 1998, 1999, 2000, 2001, 2002, 2003, 2004, 2005, 2006, 2007,\n",
       "            2008, 2009, 2010, 2011, 2012, 2013, 2014, 2015, 2016, 2017],\n",
       "           dtype='int64', name='release year')"
      ]
     },
     "execution_count": 125,
     "metadata": {},
     "output_type": "execute_result"
    }
   ],
   "source": [
    "# ...given an instance of \"DataFrameGroupBy\" class...\n",
    "# df_by_year.info() # NO!!!\n",
    "print(type(df_by_year.describe())) # returns DataFrame\n",
    "print(type(df_by_year.head())) # returns DataFrame\n",
    "# print(type(df_by_year.index)) # --NO-- !!! a DataFrameGroupBy does not have an index attribute !!!\n",
    "print(type(df_by_year.median())) # reductions on a GroupBy instance... returns a DataFrame - one row per group\n",
    "print(type(df_by_year.median().index)) # --YES-- reduction on GroupBy is DataFrame.  Index is the value of the group...\n",
    "df_by_year.median().index"
   ]
  },
  {
   "cell_type": "markdown",
   "id": "e5d5e524",
   "metadata": {},
   "source": [
    "## Apply"
   ]
  },
  {
   "cell_type": "code",
   "execution_count": 113,
   "id": "b8941c92",
   "metadata": {},
   "outputs": [
    {
     "data": {
      "text/html": [
       "<div>\n",
       "<style scoped>\n",
       "    .dataframe tbody tr th:only-of-type {\n",
       "        vertical-align: middle;\n",
       "    }\n",
       "\n",
       "    .dataframe tbody tr th {\n",
       "        vertical-align: top;\n",
       "    }\n",
       "\n",
       "    .dataframe thead tr th {\n",
       "        text-align: left;\n",
       "    }\n",
       "\n",
       "    .dataframe thead tr:last-of-type th {\n",
       "        text-align: right;\n",
       "    }\n",
       "</style>\n",
       "<table border=\"1\" class=\"dataframe\">\n",
       "  <thead>\n",
       "    <tr>\n",
       "      <th></th>\n",
       "      <th colspan=\"8\" halign=\"left\">ratingDescription</th>\n",
       "      <th colspan=\"5\" halign=\"left\">user rating score</th>\n",
       "      <th colspan=\"8\" halign=\"left\">user rating size</th>\n",
       "    </tr>\n",
       "    <tr>\n",
       "      <th></th>\n",
       "      <th>count</th>\n",
       "      <th>mean</th>\n",
       "      <th>std</th>\n",
       "      <th>min</th>\n",
       "      <th>25%</th>\n",
       "      <th>50%</th>\n",
       "      <th>75%</th>\n",
       "      <th>max</th>\n",
       "      <th>count</th>\n",
       "      <th>mean</th>\n",
       "      <th>...</th>\n",
       "      <th>75%</th>\n",
       "      <th>max</th>\n",
       "      <th>count</th>\n",
       "      <th>mean</th>\n",
       "      <th>std</th>\n",
       "      <th>min</th>\n",
       "      <th>25%</th>\n",
       "      <th>50%</th>\n",
       "      <th>75%</th>\n",
       "      <th>max</th>\n",
       "    </tr>\n",
       "    <tr>\n",
       "      <th>release year</th>\n",
       "      <th></th>\n",
       "      <th></th>\n",
       "      <th></th>\n",
       "      <th></th>\n",
       "      <th></th>\n",
       "      <th></th>\n",
       "      <th></th>\n",
       "      <th></th>\n",
       "      <th></th>\n",
       "      <th></th>\n",
       "      <th></th>\n",
       "      <th></th>\n",
       "      <th></th>\n",
       "      <th></th>\n",
       "      <th></th>\n",
       "      <th></th>\n",
       "      <th></th>\n",
       "      <th></th>\n",
       "      <th></th>\n",
       "      <th></th>\n",
       "      <th></th>\n",
       "    </tr>\n",
       "  </thead>\n",
       "  <tbody>\n",
       "    <tr>\n",
       "      <th>2013</th>\n",
       "      <td>11.0</td>\n",
       "      <td>88.545455</td>\n",
       "      <td>29.039159</td>\n",
       "      <td>10.0</td>\n",
       "      <td>90.0</td>\n",
       "      <td>90.0</td>\n",
       "      <td>100.0</td>\n",
       "      <td>124.0</td>\n",
       "      <td>11.0</td>\n",
       "      <td>76.909091</td>\n",
       "      <td>...</td>\n",
       "      <td>88.50</td>\n",
       "      <td>97.0</td>\n",
       "      <td>11.0</td>\n",
       "      <td>80.0</td>\n",
       "      <td>0.0</td>\n",
       "      <td>80.0</td>\n",
       "      <td>80.0</td>\n",
       "      <td>80.0</td>\n",
       "      <td>80.0</td>\n",
       "      <td>80.0</td>\n",
       "    </tr>\n",
       "    <tr>\n",
       "      <th>2014</th>\n",
       "      <td>12.0</td>\n",
       "      <td>79.583333</td>\n",
       "      <td>21.368874</td>\n",
       "      <td>35.0</td>\n",
       "      <td>70.0</td>\n",
       "      <td>80.0</td>\n",
       "      <td>90.0</td>\n",
       "      <td>110.0</td>\n",
       "      <td>12.0</td>\n",
       "      <td>74.916667</td>\n",
       "      <td>...</td>\n",
       "      <td>84.00</td>\n",
       "      <td>94.0</td>\n",
       "      <td>12.0</td>\n",
       "      <td>80.0</td>\n",
       "      <td>0.0</td>\n",
       "      <td>80.0</td>\n",
       "      <td>80.0</td>\n",
       "      <td>80.0</td>\n",
       "      <td>80.0</td>\n",
       "      <td>80.0</td>\n",
       "    </tr>\n",
       "    <tr>\n",
       "      <th>2015</th>\n",
       "      <td>32.0</td>\n",
       "      <td>73.250000</td>\n",
       "      <td>27.344870</td>\n",
       "      <td>10.0</td>\n",
       "      <td>60.0</td>\n",
       "      <td>80.0</td>\n",
       "      <td>90.0</td>\n",
       "      <td>110.0</td>\n",
       "      <td>32.0</td>\n",
       "      <td>82.750000</td>\n",
       "      <td>...</td>\n",
       "      <td>93.25</td>\n",
       "      <td>98.0</td>\n",
       "      <td>32.0</td>\n",
       "      <td>80.0</td>\n",
       "      <td>0.0</td>\n",
       "      <td>80.0</td>\n",
       "      <td>80.0</td>\n",
       "      <td>80.0</td>\n",
       "      <td>80.0</td>\n",
       "      <td>80.0</td>\n",
       "    </tr>\n",
       "    <tr>\n",
       "      <th>2016</th>\n",
       "      <td>82.0</td>\n",
       "      <td>84.341463</td>\n",
       "      <td>23.018629</td>\n",
       "      <td>10.0</td>\n",
       "      <td>70.0</td>\n",
       "      <td>90.0</td>\n",
       "      <td>100.0</td>\n",
       "      <td>124.0</td>\n",
       "      <td>82.0</td>\n",
       "      <td>85.060976</td>\n",
       "      <td>...</td>\n",
       "      <td>95.00</td>\n",
       "      <td>98.0</td>\n",
       "      <td>82.0</td>\n",
       "      <td>80.0</td>\n",
       "      <td>0.0</td>\n",
       "      <td>80.0</td>\n",
       "      <td>80.0</td>\n",
       "      <td>80.0</td>\n",
       "      <td>80.0</td>\n",
       "      <td>80.0</td>\n",
       "    </tr>\n",
       "    <tr>\n",
       "      <th>2017</th>\n",
       "      <td>10.0</td>\n",
       "      <td>94.300000</td>\n",
       "      <td>28.519194</td>\n",
       "      <td>41.0</td>\n",
       "      <td>95.0</td>\n",
       "      <td>110.0</td>\n",
       "      <td>110.0</td>\n",
       "      <td>110.0</td>\n",
       "      <td>10.0</td>\n",
       "      <td>87.000000</td>\n",
       "      <td>...</td>\n",
       "      <td>92.50</td>\n",
       "      <td>99.0</td>\n",
       "      <td>10.0</td>\n",
       "      <td>80.0</td>\n",
       "      <td>0.0</td>\n",
       "      <td>80.0</td>\n",
       "      <td>80.0</td>\n",
       "      <td>80.0</td>\n",
       "      <td>80.0</td>\n",
       "      <td>80.0</td>\n",
       "    </tr>\n",
       "  </tbody>\n",
       "</table>\n",
       "<p>5 rows × 24 columns</p>\n",
       "</div>"
      ],
      "text/plain": [
       "             ratingDescription                                           \\\n",
       "                         count       mean        std   min   25%    50%   \n",
       "release year                                                              \n",
       "2013                      11.0  88.545455  29.039159  10.0  90.0   90.0   \n",
       "2014                      12.0  79.583333  21.368874  35.0  70.0   80.0   \n",
       "2015                      32.0  73.250000  27.344870  10.0  60.0   80.0   \n",
       "2016                      82.0  84.341463  23.018629  10.0  70.0   90.0   \n",
       "2017                      10.0  94.300000  28.519194  41.0  95.0  110.0   \n",
       "\n",
       "                           user rating score             ...               \\\n",
       "                75%    max             count       mean  ...    75%   max   \n",
       "release year                                             ...                \n",
       "2013          100.0  124.0              11.0  76.909091  ...  88.50  97.0   \n",
       "2014           90.0  110.0              12.0  74.916667  ...  84.00  94.0   \n",
       "2015           90.0  110.0              32.0  82.750000  ...  93.25  98.0   \n",
       "2016          100.0  124.0              82.0  85.060976  ...  95.00  98.0   \n",
       "2017          110.0  110.0              10.0  87.000000  ...  92.50  99.0   \n",
       "\n",
       "             user rating size                                           \n",
       "                        count  mean  std   min   25%   50%   75%   max  \n",
       "release year                                                            \n",
       "2013                     11.0  80.0  0.0  80.0  80.0  80.0  80.0  80.0  \n",
       "2014                     12.0  80.0  0.0  80.0  80.0  80.0  80.0  80.0  \n",
       "2015                     32.0  80.0  0.0  80.0  80.0  80.0  80.0  80.0  \n",
       "2016                     82.0  80.0  0.0  80.0  80.0  80.0  80.0  80.0  \n",
       "2017                     10.0  80.0  0.0  80.0  80.0  80.0  80.0  80.0  \n",
       "\n",
       "[5 rows x 24 columns]"
      ]
     },
     "execution_count": 113,
     "metadata": {},
     "output_type": "execute_result"
    }
   ],
   "source": [
    "# Summary stats over years\n",
    "# df_by_year.describe().head()\n",
    "df_by_year.describe().tail()"
   ]
  },
  {
   "cell_type": "code",
   "execution_count": 114,
   "id": "8753b99f",
   "metadata": {},
   "outputs": [
    {
     "data": {
      "text/plain": [
       "(2017,\n",
       "                          title    rating  \\\n",
       " 7          The Vampire Diaries     TV-14   \n",
       " 36          Santa Clarita Diet     TV-MA   \n",
       " 41              13 Reasons Why     TV-MA   \n",
       " 78           Grace and Frankie     TV-MA   \n",
       " 80                The Get Down     TV-MA   \n",
       " 97                 Chewing Gum     TV-MA   \n",
       " 148             Dave Chappelle     TV-MA   \n",
       " 223                     Sense8     TV-MA   \n",
       " 626  Dragons: Race to the Edge  TV-Y7-FV   \n",
       " 630         Dawn of the Croods     TV-Y7   \n",
       " \n",
       "                                            ratingLevel  ratingDescription  \\\n",
       " 7    Parents strongly cautioned. May be unsuitable ...                 90   \n",
       " 36   For mature audiences.  May not be suitable for...                110   \n",
       " 41   For mature audiences.  May not be suitable for...                110   \n",
       " 78   For mature audiences.  May not be suitable for...                110   \n",
       " 80   For mature audiences.  May not be suitable for...                110   \n",
       " 97   For mature audiences.  May not be suitable for...                110   \n",
       " 148  For mature audiences.  May not be suitable for...                110   \n",
       " 223  For mature audiences.  May not be suitable for...                110   \n",
       " 626  Suitable for children ages 7 and older.  Conte...                 42   \n",
       " 630             Suitable for children ages 7 and older                 41   \n",
       " \n",
       "      release year  user rating score  user rating size  \n",
       " 7            2017               91.0                80  \n",
       " 36           2017               82.0                80  \n",
       " 41           2017               99.0                80  \n",
       " 78           2017               90.0                80  \n",
       " 80           2017               80.0                80  \n",
       " 97           2017               93.0                80  \n",
       " 148          2017               94.0                80  \n",
       " 223          2017               81.0                80  \n",
       " 626          2017               88.0                80  \n",
       " 630          2017               72.0                80  )"
      ]
     },
     "execution_count": 114,
     "metadata": {},
     "output_type": "execute_result"
    }
   ],
   "source": [
    "# see what the grouping looks like, you can pass the groupby object to the function list()\n",
    "# Cast grouping as a list and check out one year\n",
    "list(df_by_year)[-1]"
   ]
  },
  {
   "cell_type": "markdown",
   "id": "91406ca6",
   "metadata": {},
   "source": [
    "# Combine\n",
    "Let's say that you wanted the mean or median user_rating_score for each year. Then you can apply the .mean() or .median() method, respectively, to the groupby object and 'combine' these into a new DataFrame.\n"
   ]
  },
  {
   "cell_type": "code",
   "execution_count": 115,
   "id": "47a0d568",
   "metadata": {},
   "outputs": [
    {
     "data": {
      "text/html": [
       "<div>\n",
       "<style scoped>\n",
       "    .dataframe tbody tr th:only-of-type {\n",
       "        vertical-align: middle;\n",
       "    }\n",
       "\n",
       "    .dataframe tbody tr th {\n",
       "        vertical-align: top;\n",
       "    }\n",
       "\n",
       "    .dataframe thead th {\n",
       "        text-align: right;\n",
       "    }\n",
       "</style>\n",
       "<table border=\"1\" class=\"dataframe\">\n",
       "  <thead>\n",
       "    <tr style=\"text-align: right;\">\n",
       "      <th></th>\n",
       "      <th>ratingDescription</th>\n",
       "      <th>user rating score</th>\n",
       "      <th>user rating size</th>\n",
       "    </tr>\n",
       "    <tr>\n",
       "      <th>release year</th>\n",
       "      <th></th>\n",
       "      <th></th>\n",
       "      <th></th>\n",
       "    </tr>\n",
       "  </thead>\n",
       "  <tbody>\n",
       "    <tr>\n",
       "      <th>1940</th>\n",
       "      <td>35.0</td>\n",
       "      <td>61.0</td>\n",
       "      <td>80.0</td>\n",
       "    </tr>\n",
       "    <tr>\n",
       "      <th>1978</th>\n",
       "      <td>60.0</td>\n",
       "      <td>86.0</td>\n",
       "      <td>80.0</td>\n",
       "    </tr>\n",
       "    <tr>\n",
       "      <th>1982</th>\n",
       "      <td>60.0</td>\n",
       "      <td>68.0</td>\n",
       "      <td>80.0</td>\n",
       "    </tr>\n",
       "    <tr>\n",
       "      <th>1986</th>\n",
       "      <td>35.0</td>\n",
       "      <td>67.0</td>\n",
       "      <td>80.0</td>\n",
       "    </tr>\n",
       "    <tr>\n",
       "      <th>1987</th>\n",
       "      <td>60.0</td>\n",
       "      <td>58.0</td>\n",
       "      <td>80.0</td>\n",
       "    </tr>\n",
       "  </tbody>\n",
       "</table>\n",
       "</div>"
      ],
      "text/plain": [
       "              ratingDescription  user rating score  user rating size\n",
       "release year                                                        \n",
       "1940                       35.0               61.0              80.0\n",
       "1978                       60.0               86.0              80.0\n",
       "1982                       60.0               68.0              80.0\n",
       "1986                       35.0               67.0              80.0\n",
       "1987                       60.0               58.0              80.0"
      ]
     },
     "execution_count": 115,
     "metadata": {},
     "output_type": "execute_result"
    }
   ],
   "source": [
    "# Get median values by year and print first 5 rows\n",
    "df_med_by_year = df_by_year.median()\n",
    "df_med_by_year.head()"
   ]
  },
  {
   "cell_type": "code",
   "execution_count": 60,
   "id": "070ea62a",
   "metadata": {},
   "outputs": [
    {
     "name": "stdout",
     "output_type": "stream",
     "text": [
      "Int64Index([  0,   2,   3,   4,   5,   6,   7,   8,   9,  10,\n",
      "            ...\n",
      "            908, 911, 917, 931, 962, 966, 967, 972, 973, 979],\n",
      "           dtype='int64', length=246)\n",
      "Int64Index([1940, 1978, 1982, 1986, 1987, 1989, 1990, 1992, 1993, 1994, 1995,\n",
      "            1997, 1998, 1999, 2000, 2001, 2002, 2003, 2004, 2005, 2006, 2007,\n",
      "            2008, 2009, 2010, 2011, 2012, 2013, 2014, 2015, 2016, 2017],\n",
      "           dtype='int64', name='release year')\n"
     ]
    }
   ],
   "source": [
    "# Recall that the index of a DataFrame consists of the row labels\n",
    "print(df.index)\n",
    "# This index consists of the original row numbers, labelled by integers. '1' is missing as you dropped some rows above. \n",
    "#\n",
    "# The index of df_med_by_year consists of the values in the original column that you grouped by, the years from release_year:\n",
    "print(df_med_by_year.index) "
   ]
  },
  {
   "cell_type": "code",
   "execution_count": 63,
   "id": "0092f5db",
   "metadata": {},
   "outputs": [
    {
     "data": {
      "text/plain": [
       "Text(0, 0.5, 'median rating')"
      ]
     },
     "execution_count": 63,
     "metadata": {},
     "output_type": "execute_result"
    },
    {
     "data": {
      "image/png": "[encoded data removed]",
      "text/plain": [
       "<Figure size 432x288 with 1 Axes>"
      ]
     },
     "metadata": {
      "needs_background": "light"
     },
     "output_type": "display_data"
    }
   ],
   "source": [
    "# You're interested in the user_rating_score column, which contains the median rating for each year.\n",
    "# You can slice out the user_rating_score column of df_med_by_year and plot it as a function of the\n",
    "# year (given by the index of the DataFrame df_rat_by_year):\n",
    "df_rat_by_year = df_med_by_year['user rating score']\n",
    "plt.scatter(df_rat_by_year.index, df_rat_by_year)\n",
    "plt.xlabel('year of release')\n",
    "plt.ylabel('median rating')"
   ]
  },
  {
   "cell_type": "code",
   "execution_count": null,
   "id": "b611115e",
   "metadata": {},
   "outputs": [],
   "source": []
  }
 ],
 "metadata": {
  "kernelspec": {
   "display_name": "Python 3 (ipykernel)",
   "language": "python",
   "name": "python3"
  },
  "language_info": {
   "codemirror_mode": {
    "name": "ipython",
    "version": 3
   },
   "file_extension": ".py",
   "mimetype": "text/x-python",
   "name": "python",
   "nbconvert_exporter": "python",
   "pygments_lexer": "ipython3",
   "version": "3.9.12"
  }
 },
 "nbformat": 4,
 "nbformat_minor": 5
}
